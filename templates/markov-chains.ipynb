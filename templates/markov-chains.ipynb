{
 "cells": [
  {
   "cell_type": "code",
   "execution_count": 2,
   "metadata": {},
   "outputs": [],
   "source": [
    "# Libraries\n",
    "import math\n",
    "import pandas as pd\n",
    "import sympy as smp\n",
    "import numpy as np\n",
    "from sympy import *\n",
    "from math import *\n",
    "\n",
    "# Scipy stats\n",
    "from scipy.stats import rv_discrete\n",
    "from scipy.stats import binom\n",
    "from scipy.stats import expon\n",
    "from scipy.stats import geom\n",
    "from scipy.stats import hypergeom\n",
    "from scipy.stats import nbinom\n",
    "from scipy.stats import norm\n",
    "from scipy.stats import poisson\n",
    "from scipy.stats import uniform\n",
    "\n",
    "# Scipy operations\n",
    "from scipy.integrate import quad\n",
    "from scipy.misc import derivative\n",
    "import scipy.integrate as integrate\n",
    "import scipy.special as special\n",
    "\n",
    "# Miscellaneous\n",
    "import matplotlib.pyplot as plt\n",
    "# from fractions import Fraction\n",
    "from sympy import Rational as R\n",
    "from sympy import nsimplify\n",
    "from IPython.display import display, Math, Latex\n",
    "%matplotlib inline\n",
    "from IPython.display import Image, HTML"
   ]
  },
  {
   "cell_type": "code",
   "execution_count": 34,
   "metadata": {},
   "outputs": [
    {
     "name": "stdout",
     "output_type": "stream",
     "text": [
      "⎡0.296296296296236  0.333333333333266  0.370370370370295⎤\n",
      "⎢                                                       ⎥\n",
      "⎢0.296296296296236  0.333333333333266  0.370370370370295⎥\n",
      "⎢                                                       ⎥\n",
      "⎣0.296296296296236  0.333333333333266  0.370370370370295⎦\n"
     ]
    }
   ],
   "source": [
    "# a)\n",
    "\n",
    "TPM = Matrix(\n",
    "    [\n",
    "        [0, 1/2, 1/2],\n",
    "        [1/3, 0, 2/3],\n",
    "        [1/2, 1/2, 0]\n",
    "    ]\n",
    ")\n",
    "\n",
    "pprint(TPM**10000)\n"
   ]
  },
  {
   "cell_type": "code",
   "execution_count": 7,
   "metadata": {},
   "outputs": [
    {
     "data": {
      "text/plain": [
       "0.5004437782494935"
      ]
     },
     "execution_count": 7,
     "metadata": {},
     "output_type": "execute_result"
    }
   ],
   "source": [
    "\n",
    "result = "
   ]
  }
 ],
 "metadata": {
  "kernelspec": {
   "display_name": "Python 3",
   "language": "python",
   "name": "python3"
  },
  "language_info": {
   "codemirror_mode": {
    "name": "ipython",
    "version": 3
   },
   "file_extension": ".py",
   "mimetype": "text/x-python",
   "name": "python",
   "nbconvert_exporter": "python",
   "pygments_lexer": "ipython3",
   "version": "3.9.13"
  },
  "orig_nbformat": 4
 },
 "nbformat": 4,
 "nbformat_minor": 2
}
