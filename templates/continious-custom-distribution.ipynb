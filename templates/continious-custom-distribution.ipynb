{
 "cells": [
  {
   "cell_type": "code",
   "execution_count": 2,
   "metadata": {},
   "outputs": [],
   "source": [
    "# Libraries\n",
    "import math\n",
    "import pandas as pd\n",
    "import sympy as smp\n",
    "import numpy as np\n",
    "from sympy import *\n",
    "from math import *\n",
    "\n",
    "# Scipy stats\n",
    "from scipy.stats import rv_discrete\n",
    "from scipy.stats import binom\n",
    "from scipy.stats import expon\n",
    "from scipy.stats import geom\n",
    "from scipy.stats import hypergeom\n",
    "from scipy.stats import nbinom\n",
    "from scipy.stats import norm\n",
    "from scipy.stats import poisson\n",
    "from scipy.stats import uniform\n",
    "\n",
    "# Scipy operations\n",
    "from scipy.integrate import quad\n",
    "from scipy.misc import derivative\n",
    "import scipy.integrate as integrate\n",
    "import scipy.special as special\n",
    "\n",
    "# Miscellaneous\n",
    "import matplotlib.pyplot as plt\n",
    "# from fractions import Fraction\n",
    "from sympy import Rational as R\n",
    "from sympy import nsimplify\n",
    "from IPython.display import display, Math, Latex\n",
    "%matplotlib inline\n",
    "from IPython.display import Image, HTML"
   ]
  },
  {
   "cell_type": "code",
   "execution_count": 4,
   "metadata": {},
   "outputs": [
    {
     "data": {
      "text/latex": [
       "$\\displaystyle c = 5/2$"
      ],
      "text/plain": [
       "<IPython.core.display.Math object>"
      ]
     },
     "metadata": {},
     "output_type": "display_data"
    }
   ],
   "source": [
    "# If the PDF or CDF contains a constant, we need to solve some equation, typically\n",
    "# it's the rule where the integration has to equal 1\n",
    "\n",
    "x, c = smp.symbols('x c', real = True)\n",
    "\n",
    "formula = R(1,5) * c * (x**5 + 1)\n",
    "result = smp.solve(smp.integrate(formula, (x, -1, 1)) - 1, c)[0]\n",
    "\n",
    "display(Math(\"c = \" + repr(result)))"
   ]
  },
  {
   "cell_type": "code",
   "execution_count": 3,
   "metadata": {},
   "outputs": [
    {
     "name": "stdout",
     "output_type": "stream",
     "text": [
      "Probability Density Function:\n"
     ]
    },
    {
     "data": {
      "text/latex": [
       "$\\displaystyle \\frac{1}{2}$"
      ],
      "text/plain": [
       "1/2"
      ]
     },
     "metadata": {},
     "output_type": "display_data"
    },
    {
     "name": "stdout",
     "output_type": "stream",
     "text": [
      "\n",
      "Cumulative Density Function:\n"
     ]
    },
    {
     "data": {
      "text/latex": [
       "$\\displaystyle \\frac{x}{2}$"
      ],
      "text/plain": [
       "x/2"
      ]
     },
     "metadata": {},
     "output_type": "display_data"
    },
    {
     "name": "stdout",
     "output_type": "stream",
     "text": [
      "\n",
      "P(X < 1/2):           1/4 , 0.25\n",
      "P(X < 1/2 | X > 1/4):   1/3 , 0.33\n",
      "P(X > 4/5):             1/10 , 0.1\n",
      "P(X > 4/5 | X > 1/2):   2/5 , 0.4\n",
      "P(1/4 < X < 1/2):       1/8 , 0.12\n",
      "\n",
      "E[X]:                   1/16 , 0.06\n",
      "E[2X + 3]:              7/8 , 0.88\n",
      "E[X^2]:                 1/48 , 0.02\n",
      "\n",
      "V[X]:                   13/768 , 0.02\n"
     ]
    }
   ],
   "source": [
    "# After getting the clear PDF or CDF:\n",
    "\n",
    "x = smp.symbols('x', real = True)\n",
    "\n",
    "PDF = R(1/2)\n",
    "\n",
    "CDF = None\n",
    "\n",
    "X_RANGE = (x, 0, 1)\n",
    "\n",
    "if (PDF == None and CDF != None):\n",
    "    PDF = diff(CDF, x)\n",
    "\n",
    "if (CDF == None and PDF != None):\n",
    "    CDF = smp.integrate(PDF, x)\n",
    "\n",
    "print(\"Probability Density Function:\")\n",
    "display(PDF)\n",
    "print()\n",
    "\n",
    "print(\"Cumulative Density Function:\")\n",
    "display(CDF)\n",
    "print()\n",
    "\n",
    "\n",
    "# -------------------- Pre-computed probabilities --------------------\n",
    "\n",
    "# P(X = a) = 0 (because the prob. of any single point in a continuous distribution is 0)\n",
    "\n",
    "# Example: P(a < X < b)\n",
    "X_RANGE = (x, 0, R(1,2))\n",
    "\n",
    "P_X = smp.integrate(PDF, X_RANGE)\n",
    "print(f\"{'P(X < 1/2):': <22}\" + f\"{P_X} , {round(float(P_X), 2)}\")\n",
    "\n",
    "# P(X < 1/2 | X > 1/4)\n",
    "P_X_LESS_GIVEN_X_GREATER = smp.integrate(PDF, (x, R(1/4), R(1,2))) / smp.integrate(PDF, (x, R(1/4), 1))\n",
    "print(f\"{'P(X < 1/2 | X > 1/4):': <22}  {P_X_LESS_GIVEN_X_GREATER} , {round(float(P_X_LESS_GIVEN_X_GREATER), 2)}\")\n",
    "\n",
    "# P(X > 4/5)\n",
    "P_X_GREATER = smp.integrate(PDF, (x, R(4,5), 1))\n",
    "print(f\"{'P(X > 4/5):': <22}  {P_X_GREATER} , {round(float(P_X_GREATER), 2)}\")\n",
    "\n",
    "# P(X > 4/5 | X > 1/2)\n",
    "P_X_GREATER_GIVEN_X_GREATER = smp.integrate(PDF, (x, R(4,5), 1)) / smp.integrate(PDF, (x, R(1,2), 1))\n",
    "print(f\"{'P(X > 4/5 | X > 1/2):': <22}  {P_X_GREATER_GIVEN_X_GREATER} , {round(float(P_X_GREATER_GIVEN_X_GREATER), 2)}\")\n",
    "\n",
    "# P(1/4 < X < 1/2)\n",
    "P_X_GREATER_AND_LESS = smp.integrate(PDF, (x, R(1,4), R(1,2)))\n",
    "print(f\"{'P(1/4 < X < 1/2):': <22}  {P_X_GREATER_AND_LESS} , {round(float(P_X_GREATER_AND_LESS), 2)}\")\n",
    "\n",
    "print()\n",
    "\n",
    "\n",
    "# -------------------- Pre-computed expectations --------------------\n",
    "\n",
    "# E[X]\n",
    "E_X = smp.integrate(x * PDF, X_RANGE)\n",
    "print(f\"{'E[X]:': <22}  {E_X} , {round(float(E_X), 2)}\")\n",
    "\n",
    "# E[2X + 3]\n",
    "E_X_COMPOSITE = smp.integrate((2 * x + 3) * PDF, X_RANGE)\n",
    "print(f\"{'E[2X + 3]:': <22}  {E_X_COMPOSITE} , {round(float(E_X_COMPOSITE), 2)}\")\n",
    "\n",
    "# E[X^2]\n",
    "E_X2 = smp.integrate(x**2 * PDF, X_RANGE)\n",
    "print(f\"{'E[X^2]:': <22}  {E_X2} , {round(float(E_X2), 2)}\")\n",
    "\n",
    "print()\n",
    "\n",
    "\n",
    "# -------------------- Pre-computed variances --------------------\n",
    "\n",
    "# Var[X]\n",
    "V_X = E_X2 - E_X**2\n",
    "print(f\"{'V[X]:': <22}  {V_X} , {round(float(V_X), 2)}\")"
   ]
  }
 ],
 "metadata": {
  "kernelspec": {
   "display_name": "Python 3",
   "language": "python",
   "name": "python3"
  },
  "language_info": {
   "codemirror_mode": {
    "name": "ipython",
    "version": 3
   },
   "file_extension": ".py",
   "mimetype": "text/x-python",
   "name": "python",
   "nbconvert_exporter": "python",
   "pygments_lexer": "ipython3",
   "version": "3.9.13"
  },
  "orig_nbformat": 4
 },
 "nbformat": 4,
 "nbformat_minor": 2
}
