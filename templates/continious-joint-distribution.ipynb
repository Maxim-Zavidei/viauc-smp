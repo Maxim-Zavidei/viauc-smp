{
 "cells": [
  {
   "cell_type": "code",
   "execution_count": 50,
   "metadata": {},
   "outputs": [],
   "source": [
    "# Libraries\n",
    "import math\n",
    "import pandas as pd\n",
    "import sympy as smp\n",
    "import numpy as np\n",
    "from sympy import *\n",
    "from math import *\n",
    "\n",
    "# Scipy stats\n",
    "from scipy.stats import rv_discrete\n",
    "from scipy.stats import binom\n",
    "from scipy.stats import expon\n",
    "from scipy.stats import geom\n",
    "from scipy.stats import hypergeom\n",
    "from scipy.stats import nbinom\n",
    "from scipy.stats import norm\n",
    "from scipy.stats import poisson\n",
    "from scipy.stats import uniform\n",
    "\n",
    "# Scipy operations\n",
    "from scipy.integrate import quad\n",
    "from scipy.integrate import dblquad\n",
    "from scipy.misc import derivative\n",
    "import scipy.integrate as integrate\n",
    "import scipy.special as special\n",
    "\n",
    "# Miscellaneous\n",
    "import matplotlib.pyplot as plt\n",
    "# from fractions import Fraction\n",
    "from sympy import Rational as R\n",
    "from sympy import nsimplify\n",
    "from IPython.display import display, Math, Latex\n",
    "%matplotlib inline\n",
    "from IPython.display import Image, HTML"
   ]
  },
  {
   "cell_type": "code",
   "execution_count": 3,
   "metadata": {},
   "outputs": [
    {
     "data": {
      "text/latex": [
       "$\\displaystyle c = 1/26$"
      ],
      "text/plain": [
       "<IPython.core.display.Math object>"
      ]
     },
     "metadata": {},
     "output_type": "display_data"
    }
   ],
   "source": [
    "x, y, c = smp.symbols('x y c', real = True)\n",
    "\n",
    "f = c * x * y\n",
    "\n",
    "result = solve(\n",
    "    smp.integrate(f, (y, 3-x, x+1), (x, 1, 2)) + smp.integrate(f, (y, x-1, x+1), (x, 2, 3)) + smp.integrate(f, (y, x-1, 7-x), (x, 3, 4)) - 1\n",
    ", c)[0]\n",
    "\n",
    "display(Math(\"c = \" + repr(result)))"
   ]
  },
  {
   "cell_type": "code",
   "execution_count": 66,
   "metadata": {},
   "outputs": [
    {
     "name": "stdout",
     "output_type": "stream",
     "text": [
      "Joint Probability Density Function:\n"
     ]
    },
    {
     "data": {
      "text/latex": [
       "$\\displaystyle \\frac{x}{y^{2}}$"
      ],
      "text/plain": [
       "x/y**2"
      ]
     },
     "metadata": {},
     "output_type": "display_data"
    },
    {
     "name": "stdout",
     "output_type": "stream",
     "text": [
      "X Marginal PDF - PDF(X):\n"
     ]
    },
    {
     "data": {
      "text/latex": [
       "$\\displaystyle - x + \\infty \\operatorname{sign}{\\left(x \\right)}$"
      ],
      "text/plain": [
       "-x + oo*sign(x)"
      ]
     },
     "metadata": {},
     "output_type": "display_data"
    },
    {
     "name": "stdout",
     "output_type": "stream",
     "text": [
      "Y Marginal PDF - PDF(Y):\n"
     ]
    },
    {
     "data": {
      "text/latex": [
       "$\\displaystyle 0$"
      ],
      "text/plain": [
       "0"
      ]
     },
     "metadata": {},
     "output_type": "display_data"
    },
    {
     "name": "stdout",
     "output_type": "stream",
     "text": [
      "X Conditional PDF Given Y - PDF(X | Y):\n"
     ]
    },
    {
     "data": {
      "text/latex": [
       "$\\displaystyle \\frac{\\tilde{\\infty} x}{y^{2}}$"
      ],
      "text/plain": [
       "zoo*x/y**2"
      ]
     },
     "metadata": {},
     "output_type": "display_data"
    },
    {
     "name": "stdout",
     "output_type": "stream",
     "text": [
      "Y Conditional PDF Given X - PDF(Y | X):\n"
     ]
    },
    {
     "data": {
      "text/latex": [
       "$\\displaystyle \\begin{cases} \\text{NaN} & \\text{for}\\: x = 0 \\\\0 & \\text{otherwise} \\end{cases}$"
      ],
      "text/plain": [
       "Piecewise((nan, Eq(x, 0)), (0, True))"
      ]
     },
     "metadata": {},
     "output_type": "display_data"
    },
    {
     "data": {
      "text/latex": [
       "$\\displaystyle \\frac{x^{2}}{y^{\\frac{3}{2}}}$"
      ],
      "text/plain": [
       "x**2/y**(3/2)"
      ]
     },
     "metadata": {},
     "output_type": "display_data"
    },
    {
     "name": "stdout",
     "output_type": "stream",
     "text": [
      "E[X * sqrt(Y)]:                    4/5, 0.8\n"
     ]
    }
   ],
   "source": [
    "x, y = smp.symbols('x y', real = True)\n",
    "\n",
    "JOINT_PDF = x/(y**2)\n",
    "\n",
    "X_DOMAIN_RANGE = (x, -1, 1)\n",
    "Y_DOMAIN_RANGE = (y, 0, 1)\n",
    "\n",
    "print(\"Joint Probability Density Function:\")\n",
    "display(JOINT_PDF)\n",
    "\n",
    "X_MPDF = smp.integrate(JOINT_PDF, Y_DOMAIN_RANGE, conds = \"none\")\n",
    "Y_MPDF = smp.integrate(JOINT_PDF, X_DOMAIN_RANGE, conds = \"none\")\n",
    "\n",
    "print(\"X Marginal PDF - PDF(X):\")\n",
    "display(X_MPDF)\n",
    "\n",
    "print(\"Y Marginal PDF - PDF(Y):\")\n",
    "display(Y_MPDF)\n",
    "\n",
    "# -------------------- Conditional PDFs --------------------\n",
    "\n",
    "X_CONDITIONAL_PDF_GIVEN_Y = smp.simplify(JOINT_PDF / Y_MPDF)\n",
    "print(\"X Conditional PDF Given Y - PDF(X | Y):\")\n",
    "display(X_CONDITIONAL_PDF_GIVEN_Y)\n",
    "\n",
    "Y_CONDITIONAL_PDF_GIVEN_X = smp.simplify(JOINT_PDF / X_MPDF)\n",
    "print(\"Y Conditional PDF Given X - PDF(Y | X):\")\n",
    "display(Y_CONDITIONAL_PDF_GIVEN_X)\n",
    "\n",
    "# -------------------- Pre-computed Probabilities --------------------\n",
    "\n",
    "# # Example: P(a < X < b)\n",
    "# X_RANGE = (x, R(1,2), 1)\n",
    "# P_X = smp.integrate(X_MPDF, X_RANGE)\n",
    "# print(\"{:<{}}\".format(f\"P({X_RANGE[1]} < X < {X_RANGE[2]}):\", 35) + f\"{P_X}, {round(float(P_X), 2)}\")\n",
    "\n",
    "\n",
    "# # Example: P(a < Y < b)\n",
    "# Y_RANGE = (y, R(4,5), 1)\n",
    "# P_Y = smp.integrate(Y_MPDF, Y_RANGE)\n",
    "# print(\"{:<{}}\".format(f\"P({Y_RANGE[1]} < Y < {Y_RANGE[2]}):\", 35) + f\"{P_Y}, {round(float(P_Y), 2)}\")\n",
    "\n",
    "\n",
    "# # Example: P(a < X < b and c < Y < d)\n",
    "# X_RANGE = (x, R(4,5), 1)\n",
    "# Y_RANGE = (y, R(4,5), 1)\n",
    "# P_X_AND_Y = smp.integrate(JOINT_PDF, X_RANGE, Y_RANGE)\n",
    "# print(\"{:<{}}\".format(f\"P({X_RANGE[1]} < X < {X_RANGE[2]} and {Y_RANGE[1]} < Y < {Y_RANGE[2]}):\", 35) + f\"{P_X_AND_Y}, {round(float(P_X_AND_Y), 2)}\")\n",
    "\n",
    "# # Example: P(a < X < b or c < Y < d) = 1 - P(a > X > b and c > Y > d)\n",
    "# # Warning it has to be inverse ranges 1 - P(...)!!!\n",
    "# X_RANGE = (x, R(4,5), 1)\n",
    "# Y_RANGE = (y, R(4,5), 1)\n",
    "\n",
    "# P_X_OR_Y = 1 - smp.integrate(JOINT_PDF, X_RANGE, Y_RANGE)\n",
    "# print(\"{:<{}}\".format(f\"P({X_RANGE[1]} < X < {X_RANGE[2]} or {Y_RANGE[1]} < Y < {Y_RANGE[2]}):\", 35) + f\"{P_X_OR_Y}, {round(float(P_X_OR_Y), 2)}\")\n",
    "\n",
    "\n",
    "# -------------------- Pre-computed Expectations --------------------\n",
    "\n",
    "# # # Example: E[X]\n",
    "# E_X = smp.integrate(x * X_MPDF, (x, 0, 1))\n",
    "# print(\"{:<{}}\".format(f\"E[X]:\", 35) + f\"{nsimplify(E_X, tolerance=1e-10)}, {round(float(E_X), 2)}\")\n",
    "\n",
    "# # Example: E[X^2]\n",
    "# E_X2 = smp.integrate(x**2 * X_MPDF, (x, 0, 1))\n",
    "# print(\"{:<{}}\".format(f\"E[X^2]:\", 35) + f\"{nsimplify(E_X2, tolerance=1e-10)}, {round(float(E_X2), 2)}\")\n",
    "\n",
    "# # Example: E[X^3]\n",
    "# E_X3 = smp.integrate(x**3 * X_MPDF, (x, 0, 1))\n",
    "# print(\"{:<{}}\".format(f\"E[X^3]:\", 35) + f\"{nsimplify(E_X3, tolerance=1e-10)}, {round(float(E_X3), 2)}\")\n",
    "\n",
    "# # Example: E[X | Y = 1]\n",
    "# Y_VALUE = 1\n",
    "# E_X_GIVEN_Y = smp.integrate(x * smp.simplify(X_CONDITIONAL_PDF_GIVEN_Y.subs(y, Y_VALUE)), X_DOMAIN_RANGE)\n",
    "# print(\"{:<{}}\".format(f\"E[X | Y = {Y_VALUE}]:\", 35) + f\"{nsimplify(E_X_GIVEN_Y, tolerance=1e-10)}, {round(float(E_X_GIVEN_Y), 2)}\")\n",
    "\n",
    "\n",
    "\n",
    "\n",
    "\n",
    "# # Example: E[Y]\n",
    "# E_Y = smp.integrate(y * Y_MPDF, (y, 0, 1))\n",
    "# print(\"{:<{}}\".format(f\"E[Y]:\", 35) + f\"{nsimplify(E_Y, tolerance=1e-10)}, {round(float(E_Y), 2)}\")\n",
    "\n",
    "# # Example: E[Y^2]\n",
    "# E_Y2 = smp.integrate(y**2 * Y_MPDF, (y, 0, 1))\n",
    "# print(\"{:<{}}\".format(f\"E[Y^2]:\", 35) + f\"{nsimplify(E_Y2, tolerance=1e-10)}, {round(float(E_Y2), 2)}\")\n",
    "\n",
    "# # Example: E[Y | X = a]\n",
    "# X_VALUE = 0\n",
    "# E_Y_GIVEN_X = smp.integrate(y * smp.simplify(Y_CONDITIONAL_PDF_GIVEN_X.subs(x, X_VALUE)), (y, 0, 1))\n",
    "# print(\"{:<{}}\".format(f\"E[Y | X = {X_VALUE}]:\", 35) + f\"{nsimplify(E_Y_GIVEN_X, tolerance=1e-10)}, {round(float(E_Y_GIVEN_X), 2)}\")\n",
    "\n",
    "# # Example: E[Y^2 | X = a]\n",
    "# X_VALUE = 0\n",
    "# E_Y2_GIVEN_X = smp.integrate((y**2) * smp.simplify(Y_CONDITIONAL_PDF_GIVEN_X.subs(x, X_VALUE)), (y, 0, 1))\n",
    "# print(\"{:<{}}\".format(f\"E[Y | X = {X_VALUE}]:\", 35) + f\"{nsimplify(E_Y2_GIVEN_X, tolerance=1e-10)}, {round(float(E_Y2_GIVEN_X), 2)}\")\n",
    "\n",
    "\n",
    "# # Example: E[(XY)^2]\n",
    "# E_X2_Y2 = smp.integrate((x**2) * (y**2) * JOINT_PDF, X_DOMAIN_RANGE, Y_DOMAIN_RANGE)\n",
    "# print(\"{:<{}}\".format(f\"E[(X * Y)^2]:\", 35) + f\"{nsimplify(E_X2_Y2, tolerance=1e-10)}, {round(float(E_X2_Y2), 2)}\")\n",
    "\n",
    "# # Example: E[X + Y]\n",
    "# E_X_PLUS_Y = smp.integrate((x + y) * JOINT_PDF, X_DOMAIN_RANGE, Y_DOMAIN_RANGE)\n",
    "# print(\"{:<{}}\".format(f\"E[X + Y]:\", 35) + f\"{nsimplify(E_X_PLUS_Y, tolerance=1e-10)}, {round(float(E_X_PLUS_Y), 2)}\")\n",
    "\n",
    "# # Example: E[(X + Y)^2]\n",
    "# E_X_PLUS_Y_2 = smp.integrate(((x + y)**2) * JOINT_PDF, X_DOMAIN_RANGE, Y_DOMAIN_RANGE)\n",
    "# print(\"{:<{}}\".format(f\"E[(X + Y)^2]:\", 35) + f\"{nsimplify(E_X_PLUS_Y_2, tolerance=1e-10)}, {round(float(E_X_PLUS_Y_2), 2)}\")\n",
    "\n",
    "# -------------------- Pre-computed variances --------------------\n",
    "\n",
    "# # Example: Var[X]\n",
    "# V_X = E_X2 - E_X**2\n",
    "# print(\"{:<{}}\".format(f\"V[X]:\", 35) + f\"{nsimplify(V_X, tolerance=1e-10)}, {round(float(V_X), 2)}\")\n",
    "\n",
    "# # Example: Var[Y]\n",
    "# V_Y = E_Y2 - E_Y**2\n",
    "# print(\"{:<{}}\".format(f\"V[Y]:\", 35) + f\"{nsimplify(V_Y, tolerance=1e-10)}, {round(float(V_Y), 2)}\")\n",
    "\n",
    "\n",
    "# # Example: Var[Y | X = a]\n",
    "# V_Y_GIVEN_X = E_Y2_GIVEN_X - E_Y_GIVEN_X**2\n",
    "# print(\"{:<{}}\".format(f\"V[Y | X = 0]:\", 35) + f\"{nsimplify(V_Y_GIVEN_X, tolerance=1e-10)}, {round(float(V_Y_GIVEN_X), 2)}\")\n",
    "\n",
    "\n",
    "# # Example: Var[X * Y]\n",
    "# V_X_Y = E_X2_Y2 - E_X_Y**2\n",
    "# print(\"{:<{}}\".format(f\"Var[X * Y]:\", 35) + f\"{nsimplify(V_X_Y, tolerance=1e-10)}, {round(float(V_X_Y), 2)}\")\n",
    "\n",
    "# # Example: Var[X + Y]\n",
    "# V_X_PLUS_Y = E_X_PLUS_Y_2 - E_X_PLUS_Y**2\n",
    "# print(\"{:<{}}\".format(f\"Var[X + Y]:\", 35) + f\"{nsimplify(V_X_PLUS_Y, tolerance=1e-10)}, {round(float(V_X_PLUS_Y), 2)}\")"
   ]
  },
  {
   "cell_type": "code",
   "execution_count": 70,
   "metadata": {},
   "outputs": [
    {
     "name": "stdout",
     "output_type": "stream",
     "text": [
      "P(0 < X < 1/2 | Y = 1):            nan, nan\n",
      "P(0 < Y < 1/2 | X = 1):            1/4, 0.25\n",
      "P(1/2 < X < 1 | 0 < Y < 1/2):      2/5, 0.4\n",
      "P(0 < Y < 1/2 | 1/2 < X < 1):      6/7, 0.86\n"
     ]
    }
   ],
   "source": [
    "# -------------------- Pre-computed Conditional Probabilities --------------------\n",
    "\n",
    "# Example: P(a < X < b | Y = c)\n",
    "Y_VALUE = 1\n",
    "X_RANGE = (x, 0, R(1,2))\n",
    "\n",
    "P_X_GIVEN_Y = smp.integrate(smp.simplify(X_CONDITIONAL_PDF_GIVEN_Y.subs(y, Y_VALUE)), X_RANGE)\n",
    "print(\"{:<{}}\".format(f\"P({X_RANGE[1]} < X < {X_RANGE[2]} | Y = {Y_VALUE}):\", 35) + f\"{nsimplify(P_X_GIVEN_Y, tolerance=1e-10)}, {round(float(P_X_GIVEN_Y), 2)}\")\n",
    "\n",
    "\n",
    "# Example: P(a < Y < b | X = c)\n",
    "X_VALUE = 1\n",
    "Y_RANGE = (y, 0, R(1,2))\n",
    "\n",
    "P_Y_GIVEN_X = smp.integrate(smp.simplify(Y_CONDITIONAL_PDF_GIVEN_X.subs(x, X_VALUE)), Y_RANGE)\n",
    "print(\"{:<{}}\".format(f\"P({Y_RANGE[1]} < Y < {Y_RANGE[2]} | X = {X_VALUE}):\", 35) + f\"{nsimplify(P_Y_GIVEN_X, tolerance=1e-10)}, {round(float(P_Y_GIVEN_X), 2)}\")\n",
    "\n",
    "\n",
    "# Example: P(a < X < b | c < Y < d)\n",
    "X_RANGE = (x, R(1,2), 1)\n",
    "Y_RANGE = (y, 0, R(1,2))\n",
    "\n",
    "P_X_GIVEN_Y = smp.integrate(JOINT_PDF, X_RANGE, Y_RANGE) / smp.integrate(X_MPDF, X_RANGE)\n",
    "print(\"{:<{}}\".format(f\"P({X_RANGE[1]} < X < {X_RANGE[2]} | {Y_RANGE[1]} < Y < {Y_RANGE[2]}):\", 35) + f\"{nsimplify(P_X_GIVEN_Y, tolerance=1e-10)}, {round(float(P_X_GIVEN_Y), 2)}\")\n",
    "\n",
    "\n",
    "# Example: P(a < Y < b | c < X < d)\n",
    "Y_RANGE = (y, 0, R(1,2))\n",
    "X_RANGE = (x, R(1,2), 1)\n",
    "\n",
    "P_Y_GIVEN_X = smp.integrate(JOINT_PDF, X_RANGE, Y_RANGE) / smp.integrate(Y_MPDF, Y_RANGE)\n",
    "print(\"{:<{}}\".format(f\"P({Y_RANGE[1]} < Y < {Y_RANGE[2]} | {X_RANGE[1]} < X < {X_RANGE[2]}):\", 35) + f\"{nsimplify(P_Y_GIVEN_X, tolerance=1e-10)}, {round(float(P_Y_GIVEN_X), 2)}\")"
   ]
  },
  {
   "cell_type": "code",
   "execution_count": null,
   "metadata": {},
   "outputs": [],
   "source": [
    "# Specials:\n",
    "\n",
    "# Needs careful consideration of the integration intervals!\n",
    "# P(X + Y > 0) = 1 - P(X + Y < 0) = 1 - P(Y < -X)\n",
    "P_X_PLUS_Y = 1 - smp.integrate(JOINT_PDF, (y, 0, -x), (x, -1, 0))\n",
    "print(f\"{'P(X + Y > 0):': <25}  {P_X_PLUS_Y} , {round(float(P_X_PLUS_Y), 2)}\")\n",
    "\n",
    "# This one is very tricky because you need to consider which is the lower interval of the while we integrate\n",
    "P_Y_LESS_HALF_Y = smp.integrate(JOINT_PDF, (y, 0, x**2), (x, 0, 1/2)) + smp.integrate(JOINT_PDF, (y, 0, x/2), (x, 1/2, 1))\n",
    "print(f\"{'P(Y < (1/2)X):': <20}  {nsimplify(P_Y_LESS_HALF_Y, tolerance=1e-10)} , {round(float(P_Y_LESS_HALF_Y), 2)}\")\n",
    "\n",
    "\n",
    "# Example: P(a < X^2 < b)\n",
    "\n",
    "P_X2 = smp.integrate(X_MPDF, (x, 0, R(1,sqrt(2))))\n",
    "print(\"{:<{}}\".format(f\"P({X_RANGE[1]} < X^2 < {X_RANGE[2]}):\", 35) + f\"{P_X2}, {round(float(P_X2), 2)}\")"
   ]
  }
 ],
 "metadata": {
  "kernelspec": {
   "display_name": "Python 3",
   "language": "python",
   "name": "python3"
  },
  "language_info": {
   "codemirror_mode": {
    "name": "ipython",
    "version": 3
   },
   "file_extension": ".py",
   "mimetype": "text/x-python",
   "name": "python",
   "nbconvert_exporter": "python",
   "pygments_lexer": "ipython3",
   "version": "3.9.13"
  },
  "orig_nbformat": 4
 },
 "nbformat": 4,
 "nbformat_minor": 2
}
