{
 "cells": [
  {
   "cell_type": "code",
   "execution_count": 10,
   "metadata": {},
   "outputs": [],
   "source": [
    "from scipy.stats import binom\n",
    "import numpy as np\n",
    "import pandas as pd\n",
    "import sympy as sp\n",
    "import matplotlib.pyplot as plt\n",
    "import statsmodels.api as sm\n",
    "from scipy import stats"
   ]
  },
  {
   "cell_type": "markdown",
   "metadata": {},
   "source": [
    "Assignment 1\n",
    "=="
   ]
  },
  {
   "cell_type": "code",
   "execution_count": null,
   "metadata": {},
   "outputs": [],
   "source": [
    "# Same exam SMP E-2017"
   ]
  },
  {
   "cell_type": "markdown",
   "metadata": {},
   "source": [
    "Assignment 2\n",
    "=="
   ]
  },
  {
   "cell_type": "code",
   "execution_count": 6,
   "metadata": {},
   "outputs": [
    {
     "name": "stdout",
     "output_type": "stream",
     "text": [
      "P(S12|A12) = 0.410\n"
     ]
    }
   ],
   "source": [
    "# a)\n",
    "\n",
    "Total = 25+17+18+10+6+16+4+8+17+15+18+11+13+6+10+20\n",
    "P_S12_given_A12 = 25/(25+6+17+13)\n",
    "print(\"P(S12|A12) = {:.3f}\" .format(P_S12_given_A12))"
   ]
  },
  {
   "cell_type": "code",
   "execution_count": 14,
   "metadata": {},
   "outputs": [
    {
     "name": "stdout",
     "output_type": "stream",
     "text": [
      "Reject since p-value = 0.0024 < 0.01\n",
      "[[25  6 17 13]\n",
      " [17 16 15  6]\n",
      " [18  4 18 10]\n",
      " [10  8 11 20]]\n",
      "--------\n",
      "[[19  9 17 13]\n",
      " [17  8 15 12]\n",
      " [16  7 14 11]\n",
      " [16  7 13 11]]\n"
     ]
    }
   ],
   "source": [
    "# b)\n",
    "alpha = 0.01\n",
    "obs = np.array([\n",
    "    [25, 6, 17, 13],\n",
    "    [17,16, 15, 6],\n",
    "    [18, 4, 18, 10],\n",
    "    [10, 8, 11, 20]\n",
    "    \n",
    "])\n",
    "stat, pvalue, dof, ex = stats.chi2_contingency(obs, correction=True)\n",
    "\n",
    "if pvalue < alpha:\n",
    "    print(\"Reject since p-value = \" + repr(round(pvalue, 4)) + ' < ' + repr(alpha))\n",
    "else:\n",
    "    print(\"Fail to reject since p-value = \" + repr(round(pvalue, 4)) + ' > ' + repr(alpha))\n",
    "print(obs)\n",
    "print('--------')\n",
    "print (ex.astype(int))"
   ]
  },
  {
   "cell_type": "code",
   "execution_count": 4,
   "metadata": {},
   "outputs": [
    {
     "name": "stdout",
     "output_type": "stream",
     "text": [
      "P(S12|Aother) = 0.204\n"
     ]
    }
   ],
   "source": [
    "# c)\n",
    "P_S12_given_Aother = 10/(10+8+11+20)\n",
    "print(\"P(S12|Aother) = {:.3f}\" .format(P_S12_given_Aother))"
   ]
  },
  {
   "cell_type": "code",
   "execution_count": 5,
   "metadata": {},
   "outputs": [
    {
     "name": "stdout",
     "output_type": "stream",
     "text": [
      "P(A12 or S12') = 0.495\n"
     ]
    }
   ],
   "source": [
    "# d)\n",
    "P_A12_or_S12 = ((25+6+17+13)+(25+17+18+10)-25)/Total\n",
    "print(\"P(A12 or S12') = {:.3f}\" .format(P_A12_or_S12))"
   ]
  },
  {
   "cell_type": "markdown",
   "metadata": {},
   "source": [
    "Assignment 3\n",
    "=="
   ]
  },
  {
   "cell_type": "code",
   "execution_count": 24,
   "metadata": {},
   "outputs": [
    {
     "name": "stdout",
     "output_type": "stream",
     "text": [
      "Mean L1 = 17.92    Std1 = 3.63     IQR1 = 5.5\n",
      "Mean L2 = 17.25    Std2 = 4.59     IQR2 = 6.5\n"
     ]
    }
   ],
   "source": [
    "# a)\n",
    "\n",
    "L1 = [17, 16, 21, 14, 18, 24, 16, 14, 21, 23, 13, 18]\n",
    "L2 = [18, 14, 19, 11, 23, 21, 10, 13, 19, 24, 15, 20]\n",
    "\n",
    "mean1 = np.mean(L1)\n",
    "std1 = np.std(L1, ddof = 1)\n",
    "L1q3, L1q1 = np.percentile(L1, [75,25])\n",
    "iqr1 = L1q3 - L1q1\n",
    "\n",
    "print(\"Mean L1 =\", round(mean1, 2),   '   Std1 =', round(std1, 2),    '    IQR1 =', round(iqr1, 2))\n",
    "\n",
    "mean2 = np.mean(L2)\n",
    "std2 = np.std(L2, ddof = 1)\n",
    "L2q3, L2q1 = np.percentile(L2, [75,25])\n",
    "iqr2 = L2q3 - L2q1\n",
    "\n",
    "print(\"Mean L2 =\", round(mean2, 2),   '   Std2 =', round(std2, 2),    '    IQR2 =', round(iqr2, 2))"
   ]
  },
  {
   "cell_type": "code",
   "execution_count": 27,
   "metadata": {},
   "outputs": [
    {
     "name": "stdout",
     "output_type": "stream",
     "text": [
      "A 95.0 % confidence interval for the sample mean is [15.611 ; 20.223]\n",
      "A 95.0 % confidence interval for the sample mean is [14.331 ; 20.169]\n"
     ]
    }
   ],
   "source": [
    "# b)\n",
    "# This could technically be done in two ways: Setup two distinct CIs or setup one CI on the difference in means.\n",
    "# Here, I'll just setup two CIs\n",
    "\n",
    "n1 = len(L1)\n",
    "SE1 = stats.sem(L1)\n",
    "Level = 0.95\n",
    "\n",
    "CI1 = stats.t.interval(Level, n1-1, loc=mean1, scale=SE1)\n",
    "\n",
    "print('A ' + repr(Level*100) + ' % confidence interval for the sample mean is [' + repr(round(CI1[0],3)) + ' ; '\n",
    "      + repr(round(CI1[1],3)) + ']')\n",
    "\n",
    "n2 = len(L2)\n",
    "SE2 = stats.sem(L2)\n",
    "Level = 0.95\n",
    "\n",
    "CI2 = stats.t.interval(Level, n2-1, loc=mean2, scale=SE2)\n",
    "\n",
    "print('A ' + repr(Level*100) + ' % confidence interval for the sample mean is [' + repr(round(CI2[0],3)) + ' ; '\n",
    "      + repr(round(CI2[1],3)) + ']')\n",
    "\n",
    "# They really do not indicate anything since you would need to make a CI on the difference in means in order to\n",
    "# draw any plausible conclusions."
   ]
  },
  {
   "cell_type": "code",
   "execution_count": 28,
   "metadata": {},
   "outputs": [
    {
     "name": "stdout",
     "output_type": "stream",
     "text": [
      "Fail to reject since 0.4524 > 0.05\n"
     ]
    }
   ],
   "source": [
    "# c)\n",
    "val = stats.ttest_rel(L1, L2)\n",
    "alpha = 0.05\n",
    "pvalue = round(val[1], 4)\n",
    "if pvalue < alpha:\n",
    "    print(\"Reject since \" + repr(pvalue) + ' < ' + repr(alpha))\n",
    "else:\n",
    "    print(\"Fail to reject since \" + repr(pvalue) + ' > ' + repr(alpha))"
   ]
  },
  {
   "cell_type": "markdown",
   "metadata": {},
   "source": [
    "Assignment 4\n",
    "=="
   ]
  },
  {
   "cell_type": "code",
   "execution_count": 33,
   "metadata": {},
   "outputs": [
    {
     "name": "stdout",
     "output_type": "stream",
     "text": [
      "a) Binomial\n",
      "b) 0.17\n",
      "c) A 95.0 % confidence interval for the sample proportion is [0.1302 ; 0.2067]\n",
      "d) P(X > 10) = 0.1239\n"
     ]
    }
   ],
   "source": [
    "# a) Binomial\n",
    "n = 368\n",
    "s = 62\n",
    "\n",
    "# b)\n",
    "p = s/n\n",
    "print (\"a) Binomial\")\n",
    "print (\"b)\", round(p,2))\n",
    "\n",
    "# c)\n",
    "SE = np.sqrt((p*(1-p))/n)\n",
    "Level = 0.95\n",
    "\n",
    "CI = stats.norm.interval(Level, loc=p, scale=SE)\n",
    "\n",
    "print('c) A ' + repr(Level*100) + ' % confidence interval for the sample proportion is [' + repr(round(CI[0],4)) + ' ; '\n",
    "      + repr(round(CI[1],4)) + ']')\n",
    "\n",
    "# d)\n",
    "n1 = 40\n",
    "x = 0.25*n1\n",
    "prob = binom.sf(x-1,n1,p)\n",
    "print('d) P(X > ' + repr(int(x)) + ')' + ' = ' + repr(round(prob,4)))"
   ]
  },
  {
   "cell_type": "markdown",
   "metadata": {},
   "source": [
    "Assignment 5\n",
    "=="
   ]
  },
  {
   "cell_type": "code",
   "execution_count": 34,
   "metadata": {},
   "outputs": [],
   "source": [
    "df = pd.read_excel('C:/Users/RIB/OneDrive/Documents/Arbejde/Stochastic modeling and processes/Old/New folder/overblik/TV Viewing.XLSX', )"
   ]
  },
  {
   "cell_type": "code",
   "execution_count": 36,
   "metadata": {},
   "outputs": [
    {
     "data": {
      "image/png": "[encoded data removed]",
      "text/plain": [
       "<Figure size 432x288 with 1 Axes>"
      ]
     },
     "metadata": {},
     "output_type": "display_data"
    }
   ],
   "source": [
    "X = df['Age']\n",
    "y = df['TV hours/week']\n",
    "plt.scatter(X, y,  color='black');"
   ]
  },
  {
   "cell_type": "code",
   "execution_count": 37,
   "metadata": {},
   "outputs": [
    {
     "data": {
      "text/html": [
       "<table class=\"simpletable\">\n",
       "<caption>OLS Regression Results</caption>\n",
       "<tr>\n",
       "  <th>Dep. Variable:</th>      <td>TV hours/week</td>  <th>  R-squared:         </th> <td>   0.689</td>\n",
       "</tr>\n",
       "<tr>\n",
       "  <th>Model:</th>                   <td>OLS</td>       <th>  Adj. R-squared:    </th> <td>   0.687</td>\n",
       "</tr>\n",
       "<tr>\n",
       "  <th>Method:</th>             <td>Least Squares</td>  <th>  F-statistic:       </th> <td>   451.9</td>\n",
       "</tr>\n",
       "<tr>\n",
       "  <th>Date:</th>             <td>Wed, 28 Nov 2018</td> <th>  Prob (F-statistic):</th> <td>1.24e-53</td>\n",
       "</tr>\n",
       "<tr>\n",
       "  <th>Time:</th>                 <td>10:35:14</td>     <th>  Log-Likelihood:    </th> <td> -791.31</td>\n",
       "</tr>\n",
       "<tr>\n",
       "  <th>No. Observations:</th>      <td>   206</td>      <th>  AIC:               </th> <td>   1587.</td>\n",
       "</tr>\n",
       "<tr>\n",
       "  <th>Df Residuals:</th>          <td>   204</td>      <th>  BIC:               </th> <td>   1593.</td>\n",
       "</tr>\n",
       "<tr>\n",
       "  <th>Df Model:</th>              <td>     1</td>      <th>                     </th>     <td> </td>   \n",
       "</tr>\n",
       "<tr>\n",
       "  <th>Covariance Type:</th>      <td>nonrobust</td>    <th>                     </th>     <td> </td>   \n",
       "</tr>\n",
       "</table>\n",
       "<table class=\"simpletable\">\n",
       "<tr>\n",
       "    <td></td>       <th>coef</th>     <th>std err</th>      <th>t</th>      <th>P>|t|</th>  <th>[0.025</th>    <th>0.975]</th>  \n",
       "</tr>\n",
       "<tr>\n",
       "  <th>const</th> <td>   37.2796</td> <td>    2.104</td> <td>   17.721</td> <td> 0.000</td> <td>   33.132</td> <td>   41.427</td>\n",
       "</tr>\n",
       "<tr>\n",
       "  <th>Age</th>   <td>    0.9981</td> <td>    0.047</td> <td>   21.258</td> <td> 0.000</td> <td>    0.905</td> <td>    1.091</td>\n",
       "</tr>\n",
       "</table>\n",
       "<table class=\"simpletable\">\n",
       "<tr>\n",
       "  <th>Omnibus:</th>       <td> 2.936</td> <th>  Durbin-Watson:     </th> <td>   1.622</td>\n",
       "</tr>\n",
       "<tr>\n",
       "  <th>Prob(Omnibus):</th> <td> 0.230</td> <th>  Jarque-Bera (JB):  </th> <td>   2.925</td>\n",
       "</tr>\n",
       "<tr>\n",
       "  <th>Skew:</th>          <td> 0.248</td> <th>  Prob(JB):          </th> <td>   0.232</td>\n",
       "</tr>\n",
       "<tr>\n",
       "  <th>Kurtosis:</th>      <td> 2.692</td> <th>  Cond. No.          </th> <td>    119.</td>\n",
       "</tr>\n",
       "</table><br/><br/>Warnings:<br/>[1] Standard Errors assume that the covariance matrix of the errors is correctly specified."
      ],
      "text/plain": [
       "<class 'statsmodels.iolib.summary.Summary'>\n",
       "\"\"\"\n",
       "                            OLS Regression Results                            \n",
       "==============================================================================\n",
       "Dep. Variable:          TV hours/week   R-squared:                       0.689\n",
       "Model:                            OLS   Adj. R-squared:                  0.687\n",
       "Method:                 Least Squares   F-statistic:                     451.9\n",
       "Date:                Wed, 28 Nov 2018   Prob (F-statistic):           1.24e-53\n",
       "Time:                        10:35:14   Log-Likelihood:                -791.31\n",
       "No. Observations:                 206   AIC:                             1587.\n",
       "Df Residuals:                     204   BIC:                             1593.\n",
       "Df Model:                           1                                         \n",
       "Covariance Type:            nonrobust                                         \n",
       "==============================================================================\n",
       "                 coef    std err          t      P>|t|      [0.025      0.975]\n",
       "------------------------------------------------------------------------------\n",
       "const         37.2796      2.104     17.721      0.000      33.132      41.427\n",
       "Age            0.9981      0.047     21.258      0.000       0.905       1.091\n",
       "==============================================================================\n",
       "Omnibus:                        2.936   Durbin-Watson:                   1.622\n",
       "Prob(Omnibus):                  0.230   Jarque-Bera (JB):                2.925\n",
       "Skew:                           0.248   Prob(JB):                        0.232\n",
       "Kurtosis:                       2.692   Cond. No.                         119.\n",
       "==============================================================================\n",
       "\n",
       "Warnings:\n",
       "[1] Standard Errors assume that the covariance matrix of the errors is correctly specified.\n",
       "\"\"\""
      ]
     },
     "execution_count": 37,
     "metadata": {},
     "output_type": "execute_result"
    }
   ],
   "source": [
    "X1 = sm.add_constant(X)\n",
    "model = sm.OLS(y, X1).fit()\n",
    "res = model.resid\n",
    "yhat = model.fittedvalues\n",
    "model.summary()"
   ]
  },
  {
   "cell_type": "code",
   "execution_count": 38,
   "metadata": {},
   "outputs": [
    {
     "data": {
      "image/png": "[encoded data removed]",
      "text/plain": [
       "<Figure size 432x288 with 1 Axes>"
      ]
     },
     "metadata": {},
     "output_type": "display_data"
    }
   ],
   "source": [
    "plt.scatter(X, y,  color='black')\n",
    "plt.plot(X, yhat, color='red', linewidth=1);"
   ]
  },
  {
   "cell_type": "code",
   "execution_count": 39,
   "metadata": {},
   "outputs": [
    {
     "data": {
      "image/png": "[encoded data removed]",
      "text/plain": [
       "<Figure size 432x288 with 1 Axes>"
      ]
     },
     "metadata": {},
     "output_type": "display_data"
    }
   ],
   "source": [
    "plt.scatter(X, res)\n",
    "plt.axhline(y=0, color='k', linewidth=1)\n",
    "plt.show()"
   ]
  },
  {
   "cell_type": "code",
   "execution_count": 40,
   "metadata": {},
   "outputs": [
    {
     "data": {
      "image/png": "[encoded data removed]",
      "text/plain": [
       "<Figure size 432x288 with 1 Axes>"
      ]
     },
     "metadata": {},
     "output_type": "display_data"
    },
    {
     "name": "stdout",
     "output_type": "stream",
     "text": [
      "Skewness = 0.248\n",
      "Kurtosis = -0.3078\n"
     ]
    },
    {
     "data": {
      "image/png": "[encoded data removed]",
      "text/plain": [
       "<Figure size 432x288 with 1 Axes>"
      ]
     },
     "metadata": {},
     "output_type": "display_data"
    }
   ],
   "source": [
    "stats.probplot(res, plot=plt)\n",
    "plt.ylabel('Residuals')\n",
    "plt.show()\n",
    "print('Skewness = ' + repr(round(stats.skew(res),4)))\n",
    "print('Kurtosis = ' + repr(round(stats.kurtosis(res),4)))\n",
    "df = pd.DataFrame(res)\n",
    "fig, ax = plt.subplots()\n",
    "df.plot.kde(ax=ax, legend=False, title='Distribution');"
   ]
  },
  {
   "cell_type": "code",
   "execution_count": null,
   "metadata": {},
   "outputs": [],
   "source": []
  }
 ],
 "metadata": {
  "kernelspec": {
   "display_name": "Python 3",
   "language": "python",
   "name": "python3"
  },
  "language_info": {
   "codemirror_mode": {
    "name": "ipython",
    "version": 3
   },
   "file_extension": ".py",
   "mimetype": "text/x-python",
   "name": "python",
   "nbconvert_exporter": "python",
   "pygments_lexer": "ipython3",
   "version": "3.7.6"
  }
 },
 "nbformat": 4,
 "nbformat_minor": 2
}
