{
 "cells": [
  {
   "cell_type": "code",
   "execution_count": 1,
   "metadata": {},
   "outputs": [],
   "source": [
    "from sympy import *\n",
    "from fractions import Fraction\n",
    "from scipy.stats import binom\n",
    "from scipy.stats import poisson\n",
    "import statsmodels.api as sm\n",
    "from scipy import stats\n",
    "import pandas as pd\n",
    "from matplotlib import pyplot as plt\n",
    "import numpy as np\n",
    "init_printing()\n",
    "from IPython.display import display, Latex, HTML, Math\n",
    "%matplotlib inline"
   ]
  },
  {
   "cell_type": "markdown",
   "metadata": {},
   "source": [
    "Re-exam SMP E-2017\n",
    "=="
   ]
  },
  {
   "cell_type": "markdown",
   "metadata": {},
   "source": [
    "### Assignment 1"
   ]
  },
  {
   "cell_type": "code",
   "execution_count": 2,
   "metadata": {},
   "outputs": [],
   "source": [
    "#a) We can do this in two ways: either integrate f or find the derivative of F. Here, I will show both.\n",
    "\n",
    "# Integrate f\n",
    "u = Symbol('u')\n",
    "k = Symbol('k')\n",
    "x = Symbol('x')\n",
    "\n",
    "init_printing(use_unicode=False, wrap_line=False)"
   ]
  },
  {
   "cell_type": "code",
   "execution_count": 6,
   "metadata": {},
   "outputs": [
    {
     "data": {
      "image/png": "[encoded data removed]",
      "text/latex": [
       "$\\displaystyle \\frac{k x^{3}}{3} + \\frac{k}{3}$"
      ],
      "text/plain": [
       "   3    \n",
       "k*x    k\n",
       "---- + -\n",
       " 3     3"
      ]
     },
     "execution_count": 6,
     "metadata": {},
     "output_type": "execute_result"
    }
   ],
   "source": [
    "# Integrate f\n",
    "u = Symbol('u')\n",
    "k = Symbol('k')\n",
    "x = Symbol('x')\n",
    "\n",
    "f = k*u**2\n",
    "integrate(f, (u,-1, x))"
   ]
  },
  {
   "cell_type": "code",
   "execution_count": 32,
   "metadata": {},
   "outputs": [
    {
     "data": {
      "image/png": "[encoded data removed]",
      "text/latex": [
       "$$1.0 k x^{2}$$"
      ],
      "text/plain": [
       "       2\n",
       "1.0*k*x "
      ]
     },
     "execution_count": 32,
     "metadata": {},
     "output_type": "execute_result"
    }
   ],
   "source": [
    "# Find the derivative of F\n",
    "F = (1/3)*k*(x**3+1)\n",
    "diff(F,x)"
   ]
  },
  {
   "cell_type": "code",
   "execution_count": 51,
   "metadata": {},
   "outputs": [
    {
     "name": "stdout",
     "output_type": "stream",
     "text": [
      "3/2\n"
     ]
    }
   ],
   "source": [
    "# b)\n",
    "k_val = solve((1/3)*k*(1**3+1)-(1/3)*k*((-1)**3+1)-1, k)\n",
    "print(Fraction(float(k_val[0])))"
   ]
  },
  {
   "cell_type": "code",
   "execution_count": 65,
   "metadata": {},
   "outputs": [
    {
     "name": "stdout",
     "output_type": "stream",
     "text": [
      "P(X < 1/2) = 9/16 = 0.562\n",
      "P(X > -1/4) = 65/128 = 0.508\n"
     ]
    }
   ],
   "source": [
    "# c)\n",
    "def F(x):\n",
    "    return (1/3)*float(k_val[0])*(x**3+1)\n",
    "print(\"P(X < 1/2) =\", Fraction(F(1/2)), \"=\", round(float(F(1/2)), 3))\n",
    "print(\"P(X > -1/4) =\", Fraction(1-F(-1/4)), \"=\", round(float(1-F(-1/4)), 3))"
   ]
  },
  {
   "cell_type": "code",
   "execution_count": 75,
   "metadata": {},
   "outputs": [
    {
     "name": "stdout",
     "output_type": "stream",
     "text": [
      "E(X) = 0\n"
     ]
    }
   ],
   "source": [
    "# d)\n",
    "print(\"E(X) =\", integrate(float(k_val[0])*x*x**2, (x, -1, 1)))"
   ]
  },
  {
   "cell_type": "code",
   "execution_count": 77,
   "metadata": {},
   "outputs": [
    {
     "name": "stdout",
     "output_type": "stream",
     "text": [
      "Var(X) = 0.6\n"
     ]
    }
   ],
   "source": [
    "print(\"Var(X) =\", round(integrate(float(k_val[0])*(x**2)*x**2, (x, -1, 1))-\n",
    "     integrate(float(k_val[0])*x*x**2, (x, -1, 1)), 3))"
   ]
  },
  {
   "cell_type": "markdown",
   "metadata": {},
   "source": [
    "### Assignment 2"
   ]
  },
  {
   "cell_type": "code",
   "execution_count": 91,
   "metadata": {},
   "outputs": [
    {
     "name": "stdout",
     "output_type": "stream",
     "text": [
      "a. P(¬A) = 0.9\n",
      "b. P(¬T | A) = 0.05\n",
      "c. P(¬T | ¬A) = 0.85\n",
      "d. P(T) = 0.23\n",
      "e. P(A | T) = 0.413\n"
     ]
    }
   ],
   "source": [
    "A = 0.1\n",
    "T_given_A = 0.95\n",
    "T_given_notA = 0.15\n",
    "\n",
    "# a)\n",
    "notA = 1-A\n",
    "print(\"a. P(\\u00ACA) =\", notA)\n",
    "\n",
    "# b)\n",
    "print(\"b. P(\\u00ACT | A) =\", round(1-T_given_A, 3))\n",
    "\n",
    "# c)\n",
    "print(\"c. P(\\u00ACT | \\u00ACA) =\", round(1-T_given_notA, 3))\n",
    "\n",
    "# d)\n",
    "T = T_given_A*A+T_given_notA*notA\n",
    "print(\"d. P(T) =\", round(T, 3))\n",
    "\n",
    "# e)\n",
    "print(\"e. P(A | T) =\", round(T_given_A*A/T, 3))"
   ]
  },
  {
   "cell_type": "markdown",
   "metadata": {},
   "source": [
    "### Assignment 3"
   ]
  },
  {
   "cell_type": "code",
   "execution_count": 103,
   "metadata": {},
   "outputs": [
    {
     "name": "stdout",
     "output_type": "stream",
     "text": [
      "a. P(X ≤ 4) = 0.02\n"
     ]
    }
   ],
   "source": [
    "pA = 0.75\n",
    "nB = 60\n",
    "sB = 41\n",
    "pB = sB/nB\n",
    "\n",
    "# a)\n",
    "# Let X denote the event that player A hits his target. Then X follows a binomial distribution with p = 0.75\n",
    "print('a. P(X \\u2264 4) =', round(binom.cdf(4,10,pA), 3))"
   ]
  },
  {
   "cell_type": "code",
   "execution_count": 104,
   "metadata": {},
   "outputs": [
    {
     "name": "stdout",
     "output_type": "stream",
     "text": [
      "Fail to reject since 0.2089 > 0.05\n"
     ]
    }
   ],
   "source": [
    "# b)\n",
    "# Since we have two proportions, we can use test of difference between proportions:\n",
    "nA = 60\n",
    "sA = 60*pA\n",
    "\n",
    "val = sm.stats.proportions_ztest([sA, sB], [nA, nB], value = None, alternative = 'larger')\n",
    "stat = abs(round(val[0],2))\n",
    "pvalue = round(val[1],4)\n",
    "\n",
    "alpha = 0.05\n",
    "crit = stats.norm.isf(alpha/2)\n",
    "\n",
    "if pvalue < alpha:\n",
    "    print(\"Reject since \" + repr(pvalue) + ' < ' + repr(alpha))\n",
    "else:\n",
    "    print(\"Fail to reject since \" + repr(pvalue) + ' > ' + repr(alpha))"
   ]
  },
  {
   "cell_type": "markdown",
   "metadata": {},
   "source": [
    "### Assignment 4"
   ]
  },
  {
   "cell_type": "code",
   "execution_count": 2,
   "metadata": {},
   "outputs": [],
   "source": [
    "df = pd.read_excel('C:/Users/RIB/OneDrive - ViaUC/Arbejde/Stochastic modeling and processes/Previous Exams/Data_assignment_4.XLSX')"
   ]
  },
  {
   "cell_type": "code",
   "execution_count": 3,
   "metadata": {},
   "outputs": [
    {
     "data": {
      "image/png": "[encoded data removed]",
      "text/plain": [
       "<Figure size 432x288 with 1 Axes>"
      ]
     },
     "metadata": {
      "needs_background": "light"
     },
     "output_type": "display_data"
    }
   ],
   "source": [
    "fig, ax = plt.subplots()\n",
    "df2 = pd.read_excel('C:/Users/RIB/Downloads/scoringGrid-1834915.xlsx')\n",
    "df3 = df2[df2['Final score'] > 49]\n",
    "df3['Final score'].plot.kde(ax=ax, legend=False, title='Distribution');"
   ]
  },
  {
   "cell_type": "code",
   "execution_count": 4,
   "metadata": {},
   "outputs": [
    {
     "data": {
      "text/plain": [
       "0         2.1162\n",
       "1         2.5135\n",
       "2         1.8137\n",
       "3         0.8075\n",
       "4         1.5554\n",
       "5         0.7835\n",
       "6         1.2408\n",
       "7         2.5437\n",
       "8         0.0104\n",
       "9         1.9363\n",
       "10        1.3427\n",
       "11        3.6309\n",
       "12        1.0839\n",
       "13        1.7935\n",
       "14        1.1715\n",
       "15        2.2903\n",
       "16        3.6370\n",
       "17        3.5418\n",
       "18        2.4258\n",
       "19        2.3523\n",
       "20        2.2032\n",
       "21        2.5672\n",
       "22        0.8744\n",
       "23        3.0823\n",
       "24        0.5893\n",
       "25    21867.0000\n",
       "26        2.2649\n",
       "27        0.9554\n",
       "28        2.1530\n",
       "29        4.3498\n",
       "Name: Producer 1, dtype: float64"
      ]
     },
     "execution_count": 4,
     "metadata": {},
     "output_type": "execute_result"
    }
   ],
   "source": [
    "df['Producer 1']"
   ]
  },
  {
   "cell_type": "code",
   "execution_count": 5,
   "metadata": {},
   "outputs": [
    {
     "data": {
      "image/png": "[encoded data removed]",
      "text/plain": [
       "<Figure size 432x288 with 1 Axes>"
      ]
     },
     "metadata": {
      "needs_background": "light"
     },
     "output_type": "display_data"
    },
    {
     "name": "stdout",
     "output_type": "stream",
     "text": [
      "Skewness = 5.1995\n",
      "Kurtosis = 25.0345\n"
     ]
    },
    {
     "data": {
      "image/png": "[encoded data removed]",
      "text/plain": [
       "<Figure size 432x288 with 1 Axes>"
      ]
     },
     "metadata": {
      "needs_background": "light"
     },
     "output_type": "display_data"
    }
   ],
   "source": [
    "# b) We check for normality using a normal probability plot and compute skewness and kurtosis and then create a plot of the pdf\n",
    "stats.probplot(df['Producer 1'], plot=plt)\n",
    "plt.ylabel('Producer 1')\n",
    "plt.show()\n",
    "print('Skewness = ' + repr(round(stats.skew(df['Producer 1']),4)))\n",
    "print('Kurtosis = ' + repr(round(stats.kurtosis(df['Producer 1']),4)))\n",
    "fig, ax = plt.subplots()\n",
    "df['Producer 1'].plot.kde(ax=ax, legend=False, title='Distribution');"
   ]
  },
  {
   "cell_type": "code",
   "execution_count": 6,
   "metadata": {},
   "outputs": [
    {
     "data": {
      "image/png": "[encoded data removed]",
      "text/latex": [
       "$\\displaystyle 4.5571375000000005$"
      ],
      "text/plain": [
       "4.5571375000000005"
      ]
     },
     "execution_count": 6,
     "metadata": {},
     "output_type": "execute_result"
    }
   ],
   "source": [
    "# There seems to be an outlier in supplier 1. We will replace this by the mean value of the remaining data.\n",
    "q3, q1 = np.percentile(df['Producer 1'], [75,25])\n",
    "iqr = q3 - q1\n",
    "outlier = q3+1.5*iqr\n",
    "outlier"
   ]
  },
  {
   "cell_type": "code",
   "execution_count": 7,
   "metadata": {},
   "outputs": [],
   "source": [
    "average = df.loc[df['Producer 1'] < outlier, 'Producer 1'].mean()\n",
    "df['Producer 1'] = np.where(df['Producer 1'] > outlier, average, df['Producer 1'])"
   ]
  },
  {
   "cell_type": "code",
   "execution_count": 8,
   "metadata": {},
   "outputs": [
    {
     "data": {
      "image/png": "[encoded data removed]",
      "text/plain": [
       "<Figure size 432x288 with 1 Axes>"
      ]
     },
     "metadata": {
      "needs_background": "light"
     },
     "output_type": "display_data"
    },
    {
     "name": "stdout",
     "output_type": "stream",
     "text": [
      "Skewness = 0.3199\n",
      "Kurtosis = -0.2747\n"
     ]
    },
    {
     "data": {
      "image/png": "[encoded data removed]",
      "text/plain": [
       "<Figure size 432x288 with 1 Axes>"
      ]
     },
     "metadata": {
      "needs_background": "light"
     },
     "output_type": "display_data"
    }
   ],
   "source": [
    "stats.probplot(df['Producer 1'], plot=plt)\n",
    "plt.ylabel('Producer 1')\n",
    "plt.show()\n",
    "print('Skewness = ' + repr(round(stats.skew(df['Producer 1']),4)))\n",
    "print('Kurtosis = ' + repr(round(stats.kurtosis(df['Producer 1']),4)))\n",
    "fig, ax = plt.subplots()\n",
    "df['Producer 1'].plot.kde(ax=ax, legend=False, title='Distribution');"
   ]
  },
  {
   "cell_type": "code",
   "execution_count": 161,
   "metadata": {},
   "outputs": [
    {
     "data": {
      "image/png": "[encoded data removed]",
      "text/plain": [
       "<Figure size 432x288 with 1 Axes>"
      ]
     },
     "metadata": {},
     "output_type": "display_data"
    },
    {
     "name": "stdout",
     "output_type": "stream",
     "text": [
      "Skewness = -0.2306\n",
      "Kurtosis = -0.3519\n"
     ]
    },
    {
     "data": {
      "image/png": "[encoded data removed]",
      "text/plain": [
       "<Figure size 432x288 with 1 Axes>"
      ]
     },
     "metadata": {},
     "output_type": "display_data"
    }
   ],
   "source": [
    "stats.probplot(df['Producer 2'], plot=plt)\n",
    "plt.ylabel('Producer 2')\n",
    "plt.show()\n",
    "print('Skewness = ' + repr(round(stats.skew(df['Producer 2']),4)))\n",
    "print('Kurtosis = ' + repr(round(stats.kurtosis(df['Producer 2']),4)))\n",
    "fig, ax = plt.subplots()\n",
    "df['Producer 2'].plot.kde(ax=ax, legend=False, title='Distribution');"
   ]
  },
  {
   "cell_type": "code",
   "execution_count": null,
   "metadata": {},
   "outputs": [],
   "source": [
    "# After replacing the outlier, we can now see that the data is normally distributed."
   ]
  },
  {
   "cell_type": "code",
   "execution_count": 16,
   "metadata": {},
   "outputs": [
    {
     "name": "stdout",
     "output_type": "stream",
     "text": [
      "The average lifetime of the battery from producer 1 is 1.987 and the standard deviation is 1.014 and the variance is 1.029\n",
      "The average lifetime of the battery from producer 2 is 2.515 and the standard deviation is 0.935 and the variance is 0.875\n"
     ]
    }
   ],
   "source": [
    "# b)\n",
    "mean1 = round(np.mean(df['Producer 1']), 3)\n",
    "std1 = round(np.std(df['Producer 1'], ddof = 1), 3)\n",
    "var1 = round(np.var(df['Producer 1'], ddof = 1), 3)\n",
    "\n",
    "mean2 = round(np.mean(df['Producer 2']), 3)\n",
    "std2 = round(np.std(df['Producer 2'], ddof = 1), 3)\n",
    "var2 = round(np.var(df['Producer 2'], ddof = 1), 3)\n",
    "\n",
    "print('The average lifetime of the battery from producer 1 is', mean1, 'and the standard deviation is', std1,\n",
    "      'and the variance is', var1)\n",
    "\n",
    "print('The average lifetime of the battery from producer 2 is', mean2, 'and the standard deviation is', std2,\n",
    "      'and the variance is', var2)"
   ]
  },
  {
   "cell_type": "code",
   "execution_count": 174,
   "metadata": {},
   "outputs": [],
   "source": [
    "# c)"
   ]
  },
  {
   "cell_type": "code",
   "execution_count": 17,
   "metadata": {},
   "outputs": [
    {
     "name": "stdout",
     "output_type": "stream",
     "text": [
      "Reject since p-value = 0.0405 < 0.05\n"
     ]
    }
   ],
   "source": [
    "val = stats.ttest_ind(df['Producer 1'], df['Producer 2'])\n",
    "alpha = 0.05\n",
    "pvalue = round(val[1],4)\n",
    "if pvalue < alpha:\n",
    "    print(\"Reject since p-value = \" + repr(pvalue) + ' < ' + repr(alpha))\n",
    "else:\n",
    "    print(\"Fail to reject since p-value = \" + repr(pvalue) + ' > ' + repr(alpha))"
   ]
  },
  {
   "cell_type": "code",
   "execution_count": null,
   "metadata": {},
   "outputs": [],
   "source": [
    "# We conclude that the average lifetime of the two batteries are different at alpha = 0.05"
   ]
  },
  {
   "cell_type": "markdown",
   "metadata": {},
   "source": [
    "### Assignment 5"
   ]
  },
  {
   "cell_type": "code",
   "execution_count": 5,
   "metadata": {},
   "outputs": [
    {
     "data": {
      "text/html": [
       "<div>\n",
       "<style scoped>\n",
       "    .dataframe tbody tr th:only-of-type {\n",
       "        vertical-align: middle;\n",
       "    }\n",
       "\n",
       "    .dataframe tbody tr th {\n",
       "        vertical-align: top;\n",
       "    }\n",
       "\n",
       "    .dataframe thead th {\n",
       "        text-align: right;\n",
       "    }\n",
       "</style>\n",
       "<table border=\"1\" class=\"dataframe\">\n",
       "  <thead>\n",
       "    <tr style=\"text-align: right;\">\n",
       "      <th></th>\n",
       "      <th>S1</th>\n",
       "      <th>S2</th>\n",
       "      <th>Sum</th>\n",
       "    </tr>\n",
       "  </thead>\n",
       "  <tbody>\n",
       "    <tr>\n",
       "      <th>Def</th>\n",
       "      <td>40</td>\n",
       "      <td>30</td>\n",
       "      <td>70</td>\n",
       "    </tr>\n",
       "    <tr>\n",
       "      <th>Non-Def</th>\n",
       "      <td>360</td>\n",
       "      <td>570</td>\n",
       "      <td>930</td>\n",
       "    </tr>\n",
       "    <tr>\n",
       "      <th>Sum</th>\n",
       "      <td>400</td>\n",
       "      <td>600</td>\n",
       "      <td>1000</td>\n",
       "    </tr>\n",
       "  </tbody>\n",
       "</table>\n",
       "</div>"
      ],
      "text/plain": [
       "          S1   S2   Sum\n",
       "Def       40   30    70\n",
       "Non-Def  360  570   930\n",
       "Sum      400  600  1000"
      ]
     },
     "metadata": {},
     "output_type": "display_data"
    },
    {
     "data": {
      "text/html": [
       "<div>\n",
       "<style scoped>\n",
       "    .dataframe tbody tr th:only-of-type {\n",
       "        vertical-align: middle;\n",
       "    }\n",
       "\n",
       "    .dataframe tbody tr th {\n",
       "        vertical-align: top;\n",
       "    }\n",
       "\n",
       "    .dataframe thead th {\n",
       "        text-align: right;\n",
       "    }\n",
       "</style>\n",
       "<table border=\"1\" class=\"dataframe\">\n",
       "  <thead>\n",
       "    <tr style=\"text-align: right;\">\n",
       "      <th></th>\n",
       "      <th>S1</th>\n",
       "      <th>S2</th>\n",
       "      <th>Sum</th>\n",
       "    </tr>\n",
       "  </thead>\n",
       "  <tbody>\n",
       "    <tr>\n",
       "      <th>Def</th>\n",
       "      <td>0.04</td>\n",
       "      <td>0.03</td>\n",
       "      <td>0.07</td>\n",
       "    </tr>\n",
       "    <tr>\n",
       "      <th>Non-Def</th>\n",
       "      <td>0.36</td>\n",
       "      <td>0.57</td>\n",
       "      <td>0.93</td>\n",
       "    </tr>\n",
       "    <tr>\n",
       "      <th>Sum</th>\n",
       "      <td>0.40</td>\n",
       "      <td>0.60</td>\n",
       "      <td>1.00</td>\n",
       "    </tr>\n",
       "  </tbody>\n",
       "</table>\n",
       "</div>"
      ],
      "text/plain": [
       "           S1    S2   Sum\n",
       "Def      0.04  0.03  0.07\n",
       "Non-Def  0.36  0.57  0.93\n",
       "Sum      0.40  0.60  1.00"
      ]
     },
     "metadata": {},
     "output_type": "display_data"
    }
   ],
   "source": [
    "# a)\n",
    "\n",
    "df = pd.DataFrame({'S1':[40, 360, 400], 'S2':[30, 570, 600], 'Sum':[70, 930, 1000]})\n",
    "df = df.rename({0: 'Def', 1:'Non-Def', 2: 'Sum'})\n",
    "df2 = df/1000\n",
    "display(df)\n",
    "display(df2)\n",
    "alpha = 0.01"
   ]
  },
  {
   "cell_type": "code",
   "execution_count": 3,
   "metadata": {},
   "outputs": [
    {
     "name": "stdout",
     "output_type": "stream",
     "text": [
      "P(S1 | Def) = 0.571\n"
     ]
    }
   ],
   "source": [
    "# b)\n",
    "\n",
    "print('P(S1 | Def) =', round(df2.loc['Def', 'S1']/df2.loc['Def', 'Sum'], 3))"
   ]
  },
  {
   "cell_type": "code",
   "execution_count": 6,
   "metadata": {},
   "outputs": [
    {
     "name": "stdout",
     "output_type": "stream",
     "text": [
      "Reject since p-value = 0.0036 < 0.01\n",
      "[[ 40  30]\n",
      " [360 570]]\n",
      "--------\n",
      "[[ 28.  42.]\n",
      " [372. 558.]]\n"
     ]
    }
   ],
   "source": [
    "# c) I interpret 'very significantly' as alpha = 0.01\n",
    "\n",
    "obs = np.array([\n",
    "    [40, 30],\n",
    "    [360,570]\n",
    "    \n",
    "])\n",
    "stat, pvalue, dof, ex = stats.chi2_contingency(obs, correction=True)\n",
    "\n",
    "if pvalue < alpha:\n",
    "    print(\"Reject since p-value = \" + repr(round(pvalue, 4)) + ' < ' + repr(alpha))\n",
    "else:\n",
    "    print(\"Fail to reject since p-value = \" + repr(round(pvalue, 4)) + ' > ' + repr(alpha))\n",
    "print(obs)\n",
    "print('--------')\n",
    "print (ex)"
   ]
  },
  {
   "cell_type": "markdown",
   "metadata": {},
   "source": [
    "### Assignment 6"
   ]
  },
  {
   "cell_type": "code",
   "execution_count": 221,
   "metadata": {},
   "outputs": [
    {
     "name": "stdout",
     "output_type": "stream",
     "text": [
      "P(X > 10) = 0.1841\n"
     ]
    }
   ],
   "source": [
    "l = 2*4\n",
    "\n",
    "# a)\n",
    "print('P(X > 10) =', round(poisson.sf(10, l), 4))\n"
   ]
  },
  {
   "cell_type": "code",
   "execution_count": 3,
   "metadata": {},
   "outputs": [
    {
     "name": "stdout",
     "output_type": "stream",
     "text": [
      "P(9 ≤ X ≤ 11) = 0.3066\n"
     ]
    }
   ],
   "source": [
    "# b)\n",
    "l = 3*4\n",
    "print('P(9 \\u2264 X \\u2264 11) =', round(poisson.cdf(11, l) - poisson.cdf(8, l), 4))"
   ]
  },
  {
   "cell_type": "code",
   "execution_count": 227,
   "metadata": {},
   "outputs": [
    {
     "name": "stdout",
     "output_type": "stream",
     "text": [
      "P(X ≤ 0.5 min) =  0.8647\n"
     ]
    }
   ],
   "source": [
    "# c)\n",
    "# Let X denote the time in minutes until the first call. Then X follows a Exponential distribution.\n",
    "rate = 1/4\n",
    "print('P(X \\u2264 0.5 min) = ', round(stats.expon.cdf(0.5, 0, rate), 4))"
   ]
  },
  {
   "cell_type": "code",
   "execution_count": 228,
   "metadata": {},
   "outputs": [
    {
     "name": "stdout",
     "output_type": "stream",
     "text": [
      "P(X > 2 min) =  0.0003\n"
     ]
    }
   ],
   "source": [
    "# d)\n",
    "print('P(X > 2 min) = ', round(stats.expon.sf(2, 0, rate), 4))\n"
   ]
  }
 ],
 "metadata": {
  "kernelspec": {
   "display_name": "Python 3",
   "language": "python",
   "name": "python3"
  },
  "language_info": {
   "codemirror_mode": {
    "name": "ipython",
    "version": 3
   },
   "file_extension": ".py",
   "mimetype": "text/x-python",
   "name": "python",
   "nbconvert_exporter": "python",
   "pygments_lexer": "ipython3",
   "version": "3.7.6"
  }
 },
 "nbformat": 4,
 "nbformat_minor": 2
}
