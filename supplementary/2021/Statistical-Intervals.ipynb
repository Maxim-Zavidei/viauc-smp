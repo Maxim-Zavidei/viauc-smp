{
 "cells": [
  {
   "cell_type": "code",
   "execution_count": 2,
   "metadata": {},
   "outputs": [],
   "source": [
    "# Libraries\n",
    "import math\n",
    "import pandas as pd\n",
    "import sympy as smp\n",
    "import numpy as np\n",
    "from sympy import *\n",
    "from math import *\n",
    "\n",
    "# Scipy stats\n",
    "from scipy.stats import rv_discrete\n",
    "from scipy.stats import binom\n",
    "from scipy.stats import expon\n",
    "from scipy.stats import geom\n",
    "from scipy.stats import hypergeom\n",
    "from scipy.stats import nbinom\n",
    "from scipy.stats import norm\n",
    "from scipy.stats import poisson\n",
    "from scipy.stats import t\n",
    "from scipy.stats import uniform\n",
    "\n",
    "\n",
    "# Scipy operations\n",
    "from scipy.integrate import quad\n",
    "from scipy.misc import derivative\n",
    "import scipy.integrate as integrate\n",
    "import scipy.special as special\n",
    "\n",
    "# Miscellaneous\n",
    "import matplotlib.pyplot as plt\n",
    "# from fractions import Fraction\n",
    "from sympy import Rational as R\n",
    "from sympy import nsimplify\n",
    "from IPython.display import display, Math, Latex\n",
    "%matplotlib inline\n",
    "from IPython.display import Image, HTML\n",
    "\n",
    "def answer(result):\n",
    "    print(\n",
    "        \"{:<{}}\".format(f\"Exact result:\", 15) + f\"{result},\" + \"\\n\" + \n",
    "        \"{:<{}}\".format(f\"Rounded: \", 15) + f\"{round(float(result), 2)}\" + \"\\n\" + \n",
    "        \"{:<{}}\".format(f\"Fraction: \", 15) + f\"{nsimplify(result, tolerance=1e-10)}\"\n",
    "    )"
   ]
  },
  {
   "cell_type": "code",
   "execution_count": null,
   "metadata": {},
   "outputs": [],
   "source": [
    "# Parameters to be estimated:\n",
    "# 1) Mean\n",
    "# 2) sigma^2 (standard deviation)"
   ]
  },
  {
   "cell_type": "code",
   "execution_count": 3,
   "metadata": {},
   "outputs": [
    {
     "data": {
      "text/plain": [
       "0.9213503964748575"
      ]
     },
     "execution_count": 3,
     "metadata": {},
     "output_type": "execute_result"
    }
   ],
   "source": [
    "# P(Z < 1.41 = sqrt(2))\n",
    "norm.cdf(sqrt(2))"
   ]
  }
 ],
 "metadata": {
  "kernelspec": {
   "display_name": "Python 3",
   "language": "python",
   "name": "python3"
  },
  "language_info": {
   "codemirror_mode": {
    "name": "ipython",
    "version": 3
   },
   "file_extension": ".py",
   "mimetype": "text/x-python",
   "name": "python",
   "nbconvert_exporter": "python",
   "pygments_lexer": "ipython3",
   "version": "3.9.13"
  },
  "orig_nbformat": 4
 },
 "nbformat": 4,
 "nbformat_minor": 2
}
