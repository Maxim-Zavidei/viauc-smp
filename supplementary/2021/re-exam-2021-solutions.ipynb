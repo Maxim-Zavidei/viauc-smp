{
 "cells": [
  {
   "cell_type": "code",
   "execution_count": 2,
   "metadata": {},
   "outputs": [],
   "source": [
    "# Libraries\n",
    "import math\n",
    "import pandas as pd\n",
    "import sympy as smp\n",
    "import numpy as np\n",
    "from sympy import *\n",
    "from math import *\n",
    "\n",
    "# Scipy stats\n",
    "from scipy.stats import rv_discrete\n",
    "from scipy.stats import binom\n",
    "from scipy.stats import expon\n",
    "from scipy.stats import geom\n",
    "from scipy.stats import hypergeom\n",
    "from scipy.stats import nbinom\n",
    "from scipy.stats import norm\n",
    "from scipy.stats import poisson\n",
    "from scipy.stats import uniform\n",
    "\n",
    "# Scipy operations\n",
    "from scipy.integrate import quad\n",
    "from scipy.misc import derivative\n",
    "import scipy.integrate as integrate\n",
    "import scipy.special as special\n",
    "\n",
    "# Miscellaneous\n",
    "import matplotlib.pyplot as plt\n",
    "# from fractions import Fraction\n",
    "from sympy import Rational as R\n",
    "from sympy import nsimplify\n",
    "from IPython.display import display, Math, Latex\n",
    "%matplotlib inline\n",
    "from IPython.display import Image, HTML"
   ]
  },
  {
   "cell_type": "code",
   "execution_count": null,
   "metadata": {},
   "outputs": [],
   "source": [
    "# Exercise 1\n",
    "Image('https://cdn.mathpix.com/snip/images/wesjiCx-9JYQlsu3LXvM6f6waKoLiD_H3Kwh45hP5tk.original.fullsize.png', width = 500)"
   ]
  },
  {
   "cell_type": "code",
   "execution_count": 3,
   "metadata": {},
   "outputs": [
    {
     "name": "stdout",
     "output_type": "stream",
     "text": [
      "The required sample size is: 68\n"
     ]
    }
   ],
   "source": [
    "margin_of_error = 0.2\n",
    "confidence_level = 0.90\n",
    "standard_deviation = 1  # Population standard deviation\n",
    "\n",
    "z = 1.645  # Z-score for 95% confidence level\n",
    "\n",
    "n = (z * standard_deviation / margin_of_error) ** 2\n",
    "sample_size = math.ceil(n)  # Round up to the nearest whole number\n",
    "\n",
    "print(\"The required sample size is:\", sample_size)"
   ]
  }
 ],
 "metadata": {
  "kernelspec": {
   "display_name": "Python 3",
   "language": "python",
   "name": "python3"
  },
  "language_info": {
   "codemirror_mode": {
    "name": "ipython",
    "version": 3
   },
   "file_extension": ".py",
   "mimetype": "text/x-python",
   "name": "python",
   "nbconvert_exporter": "python",
   "pygments_lexer": "ipython3",
   "version": "3.9.13"
  },
  "orig_nbformat": 4
 },
 "nbformat": 4,
 "nbformat_minor": 2
}
