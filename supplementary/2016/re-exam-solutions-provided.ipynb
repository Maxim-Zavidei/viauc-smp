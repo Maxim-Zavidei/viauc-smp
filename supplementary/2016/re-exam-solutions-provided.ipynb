{
 "cells": [
  {
   "cell_type": "code",
   "execution_count": 24,
   "metadata": {},
   "outputs": [],
   "source": [
    "from sympy import *\n",
    "from fractions import Fraction\n",
    "from scipy.stats import binom\n",
    "from scipy.stats import poisson\n",
    "import math\n",
    "import statsmodels.api as sm\n",
    "from scipy import stats\n",
    "import numpy as np\n",
    "import sympy as sp\n",
    "import pandas as pd\n",
    "from matplotlib import pyplot as plt\n",
    "import numpy as np\n",
    "from sklearn import linear_model\n",
    "%matplotlib inline"
   ]
  },
  {
   "cell_type": "code",
   "execution_count": 8,
   "metadata": {},
   "outputs": [
    {
     "data": {
      "text/plain": [
       "0.6666666666666666"
      ]
     },
     "execution_count": 8,
     "metadata": {},
     "output_type": "execute_result"
    }
   ],
   "source": [
    "prob15"
   ]
  },
  {
   "cell_type": "code",
   "execution_count": 2,
   "metadata": {},
   "outputs": [
    {
     "data": {
      "text/plain": [
       "c/10 - c/x"
      ]
     },
     "execution_count": 2,
     "metadata": {},
     "output_type": "execute_result"
    }
   ],
   "source": [
    "# a)\n",
    "# Integrate f\n",
    "u = sp.Symbol('u')\n",
    "c = sp.Symbol('c')\n",
    "x = sp.Symbol('x')\n",
    "\n",
    "f = c*u**(-2)\n",
    "integrate(f, (u,10, x))"
   ]
  },
  {
   "cell_type": "code",
   "execution_count": 3,
   "metadata": {},
   "outputs": [
    {
     "data": {
      "text/plain": [
       "[10]"
      ]
     },
     "execution_count": 3,
     "metadata": {},
     "output_type": "execute_result"
    }
   ],
   "source": [
    "solve(c/10-c/float(\"inf\")-(c/10-c/10)-1,c)"
   ]
  },
  {
   "cell_type": "code",
   "execution_count": 4,
   "metadata": {},
   "outputs": [
    {
     "name": "stdout",
     "output_type": "stream",
     "text": [
      "F(x) = 1-10/x\n"
     ]
    }
   ],
   "source": [
    "print(\"F(x) = 1-10/x\")"
   ]
  },
  {
   "cell_type": "code",
   "execution_count": 5,
   "metadata": {},
   "outputs": [
    {
     "name": "stdout",
     "output_type": "stream",
     "text": [
      "P(X > 20) = 0.5\n"
     ]
    }
   ],
   "source": [
    "# b)\n",
    "\n",
    "def F(x):\n",
    "    y = 1-10/x\n",
    "    return y\n",
    "print(\"P(X > 20) =\", 1-F(20))"
   ]
  },
  {
   "cell_type": "code",
   "execution_count": 6,
   "metadata": {},
   "outputs": [
    {
     "name": "stdout",
     "output_type": "stream",
     "text": [
      "E(X) = Undefined or \"infinite\"\n"
     ]
    }
   ],
   "source": [
    "# c)\n",
    "print('E(X) = Undefined or \"infinite\"')"
   ]
  },
  {
   "cell_type": "code",
   "execution_count": 11,
   "metadata": {},
   "outputs": [
    {
     "name": "stdout",
     "output_type": "stream",
     "text": [
      "P(X ≥ 3 ) = 0.8999\n"
     ]
    }
   ],
   "source": [
    "# d) Note. There is a small error in the assignment. It should be \"in hours\" and not \"in days\"\n",
    "# You need to do this in two steps. 1) find the prob. for one device; 2) find the prob that at least 3 out of 6 will\n",
    "\n",
    "# Find prob of 1 device\n",
    "prob15 = 1-F(15)\n",
    "\n",
    "# Now we can use the binomial case as this can now be seen as a success and we need at least 3 out of 6 successes:\n",
    "\n",
    "prob = 1-binom.sf(2,6,prob15)\n",
    "print('P(X \\u2265', 3,') =' , round(prob,4))"
   ]
  },
  {
   "cell_type": "markdown",
   "metadata": {},
   "source": [
    "Assignment 2\n",
    "=="
   ]
  },
  {
   "cell_type": "code",
   "execution_count": 13,
   "metadata": {},
   "outputs": [
    {
     "name": "stdout",
     "output_type": "stream",
     "text": [
      "11000.0 €\n"
     ]
    }
   ],
   "source": [
    "# a)\n",
    "n = 550\n",
    "p = 0.02\n",
    "print(1000*binom.mean(n,p), '\\u20AC')"
   ]
  },
  {
   "cell_type": "code",
   "execution_count": 23,
   "metadata": {},
   "outputs": [
    {
     "name": "stdout",
     "output_type": "stream",
     "text": [
      "P(X > 11) = 0.42073\n"
     ]
    }
   ],
   "source": [
    "# b)\n",
    "print('P(X > 11) =', round(binom.sf(11,n,p), 5))"
   ]
  },
  {
   "cell_type": "code",
   "execution_count": 22,
   "metadata": {},
   "outputs": [
    {
     "name": "stdout",
     "output_type": "stream",
     "text": [
      "17000.0 €\n"
     ]
    }
   ],
   "source": [
    "# c)\n",
    "print(1000*binom.ppf(0.95,n,p), '\\u20AC')"
   ]
  },
  {
   "cell_type": "markdown",
   "metadata": {},
   "source": [
    "Assignment 3\n",
    "=="
   ]
  },
  {
   "cell_type": "code",
   "execution_count": 92,
   "metadata": {},
   "outputs": [
    {
     "name": "stdout",
     "output_type": "stream",
     "text": [
      "P(A|¬D) = 0.2105\n"
     ]
    }
   ],
   "source": [
    "D = 0.81\n",
    "A = 0.8\n",
    "DandA = 0.76\n",
    "print('P(A|\\u00ACD) =', round((A-DandA)/(1-D), 4))"
   ]
  },
  {
   "cell_type": "markdown",
   "metadata": {},
   "source": [
    "Assignment 4\n",
    "=="
   ]
  },
  {
   "cell_type": "code",
   "execution_count": 96,
   "metadata": {},
   "outputs": [
    {
     "name": "stdout",
     "output_type": "stream",
     "text": [
      "Fail to reject since 0.2039 > 0.05\n"
     ]
    }
   ],
   "source": [
    "# a) data must be normal\n",
    "\n",
    "# b)\n",
    "val = stats.ttest_ind_from_stats(37900, 5100, 12, 39800, 5900,12)\n",
    "\n",
    "pvalue = 0.5*round(val[1],4)\n",
    "\n",
    "alpha = 0.05\n",
    "\n",
    "if pvalue < alpha:\n",
    "    print(\"Reject since \" + repr(pvalue) + ' < ' + repr(alpha))\n",
    "else:\n",
    "    print(\"Fail to reject since \" + repr(pvalue) + ' > ' + repr(alpha))\n",
    "\n",
    "# c) See other answers"
   ]
  },
  {
   "cell_type": "markdown",
   "metadata": {},
   "source": [
    "Assignment 5\n",
    "=="
   ]
  },
  {
   "cell_type": "code",
   "execution_count": 104,
   "metadata": {},
   "outputs": [
    {
     "name": "stdout",
     "output_type": "stream",
     "text": [
      "Fail to reject since 0.2203 > 0.05\n"
     ]
    }
   ],
   "source": [
    "# There are three ways to do this. Two of them requires sample data: stats.bartlett and stat.levene\n",
    "# Here I will use the method from the book. This method is very sensitive to non-normality and should only\n",
    "# be used if you know the data is definitely normal.\n",
    "n1 = 26\n",
    "n2 = 37\n",
    "sdj = 13729\n",
    "sdi = 11003\n",
    "\n",
    "F = sdj**2/sdi**2\n",
    "\n",
    "pvalue = round(2*stats.f.sf(F, n1-1, n2-1),4)\n",
    "\n",
    "alpha = 0.05\n",
    "\n",
    "if pvalue < alpha:\n",
    "    print(\"Reject since \" + repr(pvalue) + ' < ' + repr(alpha))\n",
    "else:\n",
    "    print(\"Fail to reject since \" + repr(pvalue) + ' > ' + repr(alpha))"
   ]
  },
  {
   "cell_type": "markdown",
   "metadata": {},
   "source": [
    "Assignment 6\n",
    "=="
   ]
  },
  {
   "cell_type": "code",
   "execution_count": 28,
   "metadata": {},
   "outputs": [
    {
     "data": {
      "image/png": "[encoded data removed]",
      "text/plain": [
       "<Figure size 432x288 with 1 Axes>"
      ]
     },
     "metadata": {},
     "output_type": "display_data"
    }
   ],
   "source": [
    "X = [35, 28, 32, 27, 37, 38, 34, 35, 34, 31]\n",
    "y = [21.4, 15.2, 15.6, 12.9, 25.4, 26.6, 21.0, 20.4, 21.3, 15.0]\n",
    "plt.scatter(X, y,  color='black');"
   ]
  },
  {
   "cell_type": "code",
   "execution_count": 29,
   "metadata": {},
   "outputs": [
    {
     "name": "stderr",
     "output_type": "stream",
     "text": [
      "C:\\Anaconda3\\lib\\site-packages\\scipy\\stats\\stats.py:1394: UserWarning: kurtosistest only valid for n>=20 ... continuing anyway, n=10\n",
      "  \"anyway, n=%i\" % int(n))\n"
     ]
    },
    {
     "data": {
      "text/html": [
       "<table class=\"simpletable\">\n",
       "<caption>OLS Regression Results</caption>\n",
       "<tr>\n",
       "  <th>Dep. Variable:</th>            <td>y</td>        <th>  R-squared:         </th> <td>   0.896</td>\n",
       "</tr>\n",
       "<tr>\n",
       "  <th>Model:</th>                   <td>OLS</td>       <th>  Adj. R-squared:    </th> <td>   0.883</td>\n",
       "</tr>\n",
       "<tr>\n",
       "  <th>Method:</th>             <td>Least Squares</td>  <th>  F-statistic:       </th> <td>   68.68</td>\n",
       "</tr>\n",
       "<tr>\n",
       "  <th>Date:</th>             <td>Thu, 29 Nov 2018</td> <th>  Prob (F-statistic):</th> <td>3.38e-05</td>\n",
       "</tr>\n",
       "<tr>\n",
       "  <th>Time:</th>                 <td>10:42:31</td>     <th>  Log-Likelihood:    </th> <td> -17.680</td>\n",
       "</tr>\n",
       "<tr>\n",
       "  <th>No. Observations:</th>      <td>    10</td>      <th>  AIC:               </th> <td>   39.36</td>\n",
       "</tr>\n",
       "<tr>\n",
       "  <th>Df Residuals:</th>          <td>     8</td>      <th>  BIC:               </th> <td>   39.96</td>\n",
       "</tr>\n",
       "<tr>\n",
       "  <th>Df Model:</th>              <td>     1</td>      <th>                     </th>     <td> </td>   \n",
       "</tr>\n",
       "<tr>\n",
       "  <th>Covariance Type:</th>      <td>nonrobust</td>    <th>                     </th>     <td> </td>   \n",
       "</tr>\n",
       "</table>\n",
       "<table class=\"simpletable\">\n",
       "<tr>\n",
       "    <td></td>       <th>coef</th>     <th>std err</th>      <th>t</th>      <th>P>|t|</th>  <th>[0.025</th>    <th>0.975]</th>  \n",
       "</tr>\n",
       "<tr>\n",
       "  <th>const</th> <td>  -20.7327</td> <td>    4.878</td> <td>   -4.250</td> <td> 0.003</td> <td>  -31.982</td> <td>   -9.484</td>\n",
       "</tr>\n",
       "<tr>\n",
       "  <th>x1</th>    <td>    1.2149</td> <td>    0.147</td> <td>    8.287</td> <td> 0.000</td> <td>    0.877</td> <td>    1.553</td>\n",
       "</tr>\n",
       "</table>\n",
       "<table class=\"simpletable\">\n",
       "<tr>\n",
       "  <th>Omnibus:</th>       <td> 1.354</td> <th>  Durbin-Watson:     </th> <td>   2.591</td>\n",
       "</tr>\n",
       "<tr>\n",
       "  <th>Prob(Omnibus):</th> <td> 0.508</td> <th>  Jarque-Bera (JB):  </th> <td>   0.953</td>\n",
       "</tr>\n",
       "<tr>\n",
       "  <th>Skew:</th>          <td>-0.528</td> <th>  Prob(JB):          </th> <td>   0.621</td>\n",
       "</tr>\n",
       "<tr>\n",
       "  <th>Kurtosis:</th>      <td> 1.919</td> <th>  Cond. No.          </th> <td>    324.</td>\n",
       "</tr>\n",
       "</table><br/><br/>Warnings:<br/>[1] Standard Errors assume that the covariance matrix of the errors is correctly specified."
      ],
      "text/plain": [
       "<class 'statsmodels.iolib.summary.Summary'>\n",
       "\"\"\"\n",
       "                            OLS Regression Results                            \n",
       "==============================================================================\n",
       "Dep. Variable:                      y   R-squared:                       0.896\n",
       "Model:                            OLS   Adj. R-squared:                  0.883\n",
       "Method:                 Least Squares   F-statistic:                     68.68\n",
       "Date:                Thu, 29 Nov 2018   Prob (F-statistic):           3.38e-05\n",
       "Time:                        10:42:31   Log-Likelihood:                -17.680\n",
       "No. Observations:                  10   AIC:                             39.36\n",
       "Df Residuals:                       8   BIC:                             39.96\n",
       "Df Model:                           1                                         \n",
       "Covariance Type:            nonrobust                                         \n",
       "==============================================================================\n",
       "                 coef    std err          t      P>|t|      [0.025      0.975]\n",
       "------------------------------------------------------------------------------\n",
       "const        -20.7327      4.878     -4.250      0.003     -31.982      -9.484\n",
       "x1             1.2149      0.147      8.287      0.000       0.877       1.553\n",
       "==============================================================================\n",
       "Omnibus:                        1.354   Durbin-Watson:                   2.591\n",
       "Prob(Omnibus):                  0.508   Jarque-Bera (JB):                0.953\n",
       "Skew:                          -0.528   Prob(JB):                        0.621\n",
       "Kurtosis:                       1.919   Cond. No.                         324.\n",
       "==============================================================================\n",
       "\n",
       "Warnings:\n",
       "[1] Standard Errors assume that the covariance matrix of the errors is correctly specified.\n",
       "\"\"\""
      ]
     },
     "execution_count": 29,
     "metadata": {},
     "output_type": "execute_result"
    }
   ],
   "source": [
    "X1 = sm.add_constant(X)\n",
    "model = sm.OLS(y, X1).fit()\n",
    "res = model.resid\n",
    "yhat = model.fittedvalues\n",
    "model.summary()"
   ]
  },
  {
   "cell_type": "code",
   "execution_count": 30,
   "metadata": {},
   "outputs": [
    {
     "data": {
      "image/png": "[encoded data removed]",
      "text/plain": [
       "<Figure size 432x288 with 1 Axes>"
      ]
     },
     "metadata": {},
     "output_type": "display_data"
    }
   ],
   "source": [
    "plt.scatter(X, y,  color='black')\n",
    "plt.plot(X, yhat, color='red', linewidth=1);"
   ]
  },
  {
   "cell_type": "code",
   "execution_count": 31,
   "metadata": {},
   "outputs": [
    {
     "data": {
      "image/png": "[encoded data removed]",
      "text/plain": [
       "<Figure size 432x288 with 1 Axes>"
      ]
     },
     "metadata": {},
     "output_type": "display_data"
    }
   ],
   "source": [
    "plt.scatter(X, res)\n",
    "plt.axhline(y=0, color='k', linewidth=1)\n",
    "plt.show()"
   ]
  },
  {
   "cell_type": "code",
   "execution_count": 32,
   "metadata": {},
   "outputs": [
    {
     "data": {
      "image/png": "[encoded data removed]",
      "text/plain": [
       "<Figure size 432x288 with 1 Axes>"
      ]
     },
     "metadata": {},
     "output_type": "display_data"
    },
    {
     "name": "stdout",
     "output_type": "stream",
     "text": [
      "Skewness = -0.5285\n",
      "Kurtosis = -1.0812\n"
     ]
    },
    {
     "data": {
      "image/png": "[encoded data removed]",
      "text/plain": [
       "<Figure size 432x288 with 1 Axes>"
      ]
     },
     "metadata": {},
     "output_type": "display_data"
    }
   ],
   "source": [
    "stats.probplot(res, plot=plt)\n",
    "plt.ylabel('Residuals')\n",
    "plt.show()\n",
    "print('Skewness = ' + repr(round(stats.skew(res),4)))\n",
    "print('Kurtosis = ' + repr(round(stats.kurtosis(res),4)))\n",
    "df = pd.DataFrame(res)\n",
    "fig, ax = plt.subplots()\n",
    "df.plot.kde(ax=ax, legend=False, title='Distribution');"
   ]
  },
  {
   "cell_type": "code",
   "execution_count": 33,
   "metadata": {},
   "outputs": [
    {
     "name": "stdout",
     "output_type": "stream",
     "text": [
      "SSR = 172.538\n"
     ]
    }
   ],
   "source": [
    "# b)\n",
    "SSE = np.sum(res**2)\n",
    "SST = np.sum((y-np.mean(y))**2)\n",
    "SSR = SST-SSE\n",
    "print(\"SSR =\", round(SSR, 3))"
   ]
  },
  {
   "cell_type": "code",
   "execution_count": 34,
   "metadata": {},
   "outputs": [],
   "source": [
    "# c) see table above"
   ]
  },
  {
   "cell_type": "code",
   "execution_count": 35,
   "metadata": {},
   "outputs": [
    {
     "name": "stdout",
     "output_type": "stream",
     "text": [
      "R² = 0.896\n",
      "R = 0.946\n"
     ]
    }
   ],
   "source": [
    "# d)\n",
    "print(\"R\\u00B2 =\", round(1-SSE/SST, 3))\n",
    "print(\"R =\", round(np.sqrt(1-SSE/SST), 3))"
   ]
  },
  {
   "cell_type": "code",
   "execution_count": 36,
   "metadata": {},
   "outputs": [
    {
     "name": "stdout",
     "output_type": "stream",
     "text": [
      "A 95 % prediction interval for X = 30 is [ 11.74 ; 19.688 ]\n"
     ]
    }
   ],
   "source": [
    "# e)\n",
    "X = np.asarray(X)\n",
    "X = X.reshape(-1, 1)\n",
    "lm = linear_model.LinearRegression()\n",
    "model2 = lm.fit(X,y)\n",
    "y30 = float(model2.predict(30))\n",
    "\n",
    "n = len(X)\n",
    "reserr = SSE/(n-2)\n",
    "Sxx = np.sum((X-np.mean(X))**2)\n",
    "SE = sqrt(reserr*(1+1/n+(30-np.mean(X))**2/Sxx))\n",
    "crit = stats.t.ppf(0.975, n-2)\n",
    "\n",
    "print('A 95 % prediction interval for X = 30 is [',round(y30-crit*SE, 3), ';', round(y30+crit*SE, 3), ']')"
   ]
  },
  {
   "cell_type": "code",
   "execution_count": 37,
   "metadata": {},
   "outputs": [
    {
     "data": {
      "text/plain": [
       "15.713857998289132"
      ]
     },
     "execution_count": 37,
     "metadata": {},
     "output_type": "execute_result"
    }
   ],
   "source": [
    "y30"
   ]
  },
  {
   "cell_type": "code",
   "execution_count": null,
   "metadata": {},
   "outputs": [],
   "source": []
  }
 ],
 "metadata": {
  "kernelspec": {
   "display_name": "Python 3",
   "language": "python",
   "name": "python3"
  },
  "language_info": {
   "codemirror_mode": {
    "name": "ipython",
    "version": 3
   },
   "file_extension": ".py",
   "mimetype": "text/x-python",
   "name": "python",
   "nbconvert_exporter": "python",
   "pygments_lexer": "ipython3",
   "version": "3.7.6"
  }
 },
 "nbformat": 4,
 "nbformat_minor": 2
}
