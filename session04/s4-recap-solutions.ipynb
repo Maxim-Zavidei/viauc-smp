{
 "cells": [
  {
   "cell_type": "code",
   "execution_count": null,
   "metadata": {},
   "outputs": [],
   "source": [
    "# Libraries\n",
    "import math\n",
    "import pandas as pd\n",
    "import sympy as sp\n",
    "import numpy as np\n",
    "from sympy import *\n",
    "from math import *\n",
    "\n",
    "# Scipy distributions\n",
    "from scipy.stats import binom\n",
    "from scipy.stats import expon\n",
    "from scipy.stats import geom\n",
    "from scipy.stats import hypergeom\n",
    "from scipy.stats import nbinom\n",
    "from scipy.stats import norm\n",
    "from scipy.stats import poisson\n",
    "from scipy.stats import uniform\n",
    "\n",
    "# Scipy operations\n",
    "from scipy.integrate import quad\n",
    "from scipy.misc import derivative\n",
    "import scipy.integrate as integrate\n",
    "import scipy.special as special\n",
    "\n",
    "# Miscellaneous\n",
    "sp.init_printing()\n",
    "import matplotlib.pyplot as plt\n",
    "from fractions import Fraction\n",
    "from sympy import Rational as R\n",
    "from IPython.display import display, Math, Latex\n",
    "%matplotlib inline\n",
    "from IPython.display import Image, HTML"
   ]
  }
 ],
 "metadata": {
  "language_info": {
   "name": "python"
  },
  "orig_nbformat": 4
 },
 "nbformat": 4,
 "nbformat_minor": 2
}
